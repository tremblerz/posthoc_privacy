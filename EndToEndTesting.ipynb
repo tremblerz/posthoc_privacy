{
 "cells": [
  {
   "cell_type": "code",
   "execution_count": 1,
   "metadata": {},
   "outputs": [],
   "source": [
    "#import sys \n",
    "import torch\n",
    "from torch import optim, save\n",
    "from torchvision import datasets, transforms\n",
    "from torchvision.utils import save_image\n",
    "#from pprint import pprint \n",
    "\n",
    "import lipmip.utilities as utils\n",
    "from lipmip.relu_nets import ReLUNet\n",
    "#import lipmip.neural_nets.data_loaders as data_loaders\n",
    "#import lipmip.neural_nets.train as train \n",
    "from lipmip.hyperbox import Hyperbox \n",
    "import lipmip.interval_analysis as ia \n",
    "from lipmip.lipMIP import LipMIP"
   ]
  },
  {
   "cell_type": "code",
   "execution_count": 2,
   "metadata": {},
   "outputs": [],
   "source": [
    "from models.betavae import loss_function as vae_loss_fn\n",
    "from models.betavae import SmallVAE, BigVAE\n",
    "from models.gen import AdversaryModelGen"
   ]
  },
  {
   "cell_type": "markdown",
   "metadata": {},
   "source": [
    "# Set up dataloader"
   ]
  },
  {
   "cell_type": "code",
   "execution_count": 3,
   "metadata": {},
   "outputs": [],
   "source": [
    "bs = 200\n",
    "\n",
    "# MNIST Dataset\n",
    "train_dataset = datasets.MNIST(root='./data/', train=True, transform=transforms.ToTensor(), download=True)\n",
    "test_dataset = datasets.MNIST(root='./data/', train=False, transform=transforms.ToTensor(), download=False)\n",
    "\n",
    "# Data Loader (Input Pipeline)\n",
    "train_loader = torch.utils.data.DataLoader(dataset=train_dataset, batch_size=bs, shuffle=True)\n",
    "test_loader = torch.utils.data.DataLoader(dataset=test_dataset, batch_size=bs, shuffle=False)"
   ]
  },
  {
   "cell_type": "markdown",
   "metadata": {},
   "source": [
    "# Train a VAE to learn a smooth embedding function"
   ]
  },
  {
   "cell_type": "code",
   "execution_count": 4,
   "metadata": {
    "tags": []
   },
   "outputs": [
    {
     "data": {
      "text/plain": [
       "SmallVAE(\n",
       "  (fc1): Linear(in_features=784, out_features=512, bias=True)\n",
       "  (fc2): Linear(in_features=512, out_features=256, bias=True)\n",
       "  (fc31): Linear(in_features=256, out_features=8, bias=True)\n",
       "  (fc32): Linear(in_features=256, out_features=8, bias=True)\n",
       "  (fc4): Linear(in_features=8, out_features=256, bias=True)\n",
       "  (fc5): Linear(in_features=256, out_features=512, bias=True)\n",
       "  (fc6): Linear(in_features=512, out_features=784, bias=True)\n",
       ")"
      ]
     },
     "execution_count": 4,
     "metadata": {},
     "output_type": "execute_result"
    }
   ],
   "source": [
    "# load and train BigVAE\n",
    "# nc = 1\n",
    "# nz = 8\n",
    "# ndf = 16\n",
    "# ngf = 16\n",
    "beta = 1\n",
    "# hparams_vae = {\"nc\": nc, \"nz\": nz, \"ndf\": ndf, \"ngf\": ngf}\n",
    "# vae = BigVAE(hparams_vae)\n",
    "# vae.cuda()\n",
    "\n",
    "# Load and train SmallVAE\n",
    "vae = SmallVAE(x_dim=784, h_dim1= 512, h_dim2=256, z_dim=8)\n",
    "vae.cuda()"
   ]
  },
  {
   "cell_type": "code",
   "execution_count": 4,
   "metadata": {},
   "outputs": [],
   "source": [
    "optimizer = optim.Adam(vae.parameters())"
   ]
  },
  {
   "cell_type": "markdown",
   "metadata": {},
   "source": [
    "# Train the VAE"
   ]
  },
  {
   "cell_type": "code",
   "execution_count": 6,
   "metadata": {},
   "outputs": [],
   "source": [
    "def train(epoch):\n",
    "    vae.train()\n",
    "    train_loss = 0\n",
    "    for batch_idx, (data, _) in enumerate(train_loader):\n",
    "        data = data.cuda()\n",
    "        optimizer.zero_grad()\n",
    "        recon_batch, mu, log_var = vae(data)\n",
    "        loss, _, _ = vae_loss_fn(recon_batch, data, mu, log_var, beta)\n",
    "        \n",
    "        loss.backward()\n",
    "        train_loss += loss.item()\n",
    "        optimizer.step()\n",
    "        \n",
    "        if batch_idx % 100 == 0:\n",
    "            print('Train Epoch: {} [{}/{} ({:.0f}%)]\\tLoss: {:.6f}'.format(\n",
    "                epoch, batch_idx * len(data), len(train_loader.dataset),\n",
    "                100. * batch_idx / len(train_loader), loss.item() / len(data)))\n",
    "    print('====> Epoch: {} Average loss: {:.4f}'.format(epoch, train_loss / len(train_loader.dataset)))"
   ]
  },
  {
   "cell_type": "code",
   "execution_count": 7,
   "metadata": {},
   "outputs": [],
   "source": [
    "def test():\n",
    "    vae.eval()\n",
    "    test_loss= 0\n",
    "    with torch.no_grad():\n",
    "        for data, _ in test_loader:\n",
    "            data = data.cuda()\n",
    "            recon, mu, log_var = vae(data)\n",
    "            \n",
    "            # sum up batch loss\n",
    "            vae_l, _, _ = vae_loss_fn(recon, data, mu, log_var, beta)\n",
    "            test_loss += vae_l.item()\n",
    "        \n",
    "    test_loss /= len(test_loader.dataset)\n",
    "    print('====> Test set loss: {:.4f}'.format(test_loss))"
   ]
  },
  {
   "cell_type": "code",
   "execution_count": 8,
   "metadata": {
    "collapsed": true,
    "jupyter": {
     "outputs_hidden": true
    },
    "tags": []
   },
   "outputs": [
    {
     "name": "stderr",
     "output_type": "stream",
     "text": [
      "/u/abhi24/matlaberp2/posthoc_privacy/.projenv/lib/python3.8/site-packages/torch/nn/functional.py:1639: UserWarning: nn.functional.sigmoid is deprecated. Use torch.sigmoid instead.\n",
      "  warnings.warn(\"nn.functional.sigmoid is deprecated. Use torch.sigmoid instead.\")\n",
      "/u/abhi24/matlaberp2/posthoc_privacy/.projenv/lib/python3.8/site-packages/torch/nn/_reduction.py:44: UserWarning: size_average and reduce args will be deprecated, please use reduction='sum' instead.\n",
      "  warnings.warn(warning.format(ret))\n"
     ]
    },
    {
     "name": "stdout",
     "output_type": "stream",
     "text": [
      "Train Epoch: 1 [0/60000 (0%)]\tLoss: 0.911283\n",
      "Train Epoch: 1 [20000/60000 (33%)]\tLoss: 0.255737\n",
      "Train Epoch: 1 [40000/60000 (67%)]\tLoss: 0.240572\n",
      "====> Epoch: 1 Average loss: 0.2517\n",
      "====> Test set loss: 0.1969\n",
      "Train Epoch: 2 [0/60000 (0%)]\tLoss: 0.203336\n",
      "Train Epoch: 2 [20000/60000 (33%)]\tLoss: 0.178885\n",
      "Train Epoch: 2 [40000/60000 (67%)]\tLoss: 0.179962\n",
      "====> Epoch: 2 Average loss: 0.1814\n",
      "====> Test set loss: 0.1693\n",
      "Train Epoch: 3 [0/60000 (0%)]\tLoss: 0.168343\n",
      "Train Epoch: 3 [20000/60000 (33%)]\tLoss: 0.163051\n",
      "Train Epoch: 3 [40000/60000 (67%)]\tLoss: 0.163759\n",
      "====> Epoch: 3 Average loss: 0.1661\n",
      "====> Test set loss: 0.1616\n",
      "Train Epoch: 4 [0/60000 (0%)]\tLoss: 0.169925\n",
      "Train Epoch: 4 [20000/60000 (33%)]\tLoss: 0.156033\n",
      "Train Epoch: 4 [40000/60000 (67%)]\tLoss: 0.153282\n",
      "====> Epoch: 4 Average loss: 0.1598\n",
      "====> Test set loss: 0.1573\n",
      "Train Epoch: 5 [0/60000 (0%)]\tLoss: 0.160446\n",
      "Train Epoch: 5 [20000/60000 (33%)]\tLoss: 0.157822\n",
      "Train Epoch: 5 [40000/60000 (67%)]\tLoss: 0.161698\n",
      "====> Epoch: 5 Average loss: 0.1557\n",
      "====> Test set loss: 0.1532\n",
      "Train Epoch: 6 [0/60000 (0%)]\tLoss: 0.153289\n",
      "Train Epoch: 6 [20000/60000 (33%)]\tLoss: 0.151164\n",
      "Train Epoch: 6 [40000/60000 (67%)]\tLoss: 0.158716\n",
      "====> Epoch: 6 Average loss: 0.1529\n",
      "====> Test set loss: 0.1508\n",
      "Train Epoch: 7 [0/60000 (0%)]\tLoss: 0.150888\n",
      "Train Epoch: 7 [20000/60000 (33%)]\tLoss: 0.144638\n",
      "Train Epoch: 7 [40000/60000 (67%)]\tLoss: 0.156358\n",
      "====> Epoch: 7 Average loss: 0.1506\n",
      "====> Test set loss: 0.1494\n",
      "Train Epoch: 8 [0/60000 (0%)]\tLoss: 0.148023\n",
      "Train Epoch: 8 [20000/60000 (33%)]\tLoss: 0.145331\n",
      "Train Epoch: 8 [40000/60000 (67%)]\tLoss: 0.143434\n",
      "====> Epoch: 8 Average loss: 0.1489\n",
      "====> Test set loss: 0.1479\n",
      "Train Epoch: 9 [0/60000 (0%)]\tLoss: 0.145582\n",
      "Train Epoch: 9 [20000/60000 (33%)]\tLoss: 0.147119\n",
      "Train Epoch: 9 [40000/60000 (67%)]\tLoss: 0.153646\n",
      "====> Epoch: 9 Average loss: 0.1476\n",
      "====> Test set loss: 0.1466\n",
      "Train Epoch: 10 [0/60000 (0%)]\tLoss: 0.148306\n",
      "Train Epoch: 10 [20000/60000 (33%)]\tLoss: 0.147710\n",
      "Train Epoch: 10 [40000/60000 (67%)]\tLoss: 0.143232\n",
      "====> Epoch: 10 Average loss: 0.1464\n",
      "====> Test set loss: 0.1456\n",
      "Train Epoch: 11 [0/60000 (0%)]\tLoss: 0.149294\n",
      "Train Epoch: 11 [20000/60000 (33%)]\tLoss: 0.144648\n",
      "Train Epoch: 11 [40000/60000 (67%)]\tLoss: 0.141918\n",
      "====> Epoch: 11 Average loss: 0.1454\n",
      "====> Test set loss: 0.1446\n",
      "Train Epoch: 12 [0/60000 (0%)]\tLoss: 0.144612\n",
      "Train Epoch: 12 [20000/60000 (33%)]\tLoss: 0.139771\n",
      "Train Epoch: 12 [40000/60000 (67%)]\tLoss: 0.142513\n",
      "====> Epoch: 12 Average loss: 0.1445\n",
      "====> Test set loss: 0.1437\n",
      "Train Epoch: 13 [0/60000 (0%)]\tLoss: 0.151777\n",
      "Train Epoch: 13 [20000/60000 (33%)]\tLoss: 0.143662\n",
      "Train Epoch: 13 [40000/60000 (67%)]\tLoss: 0.138744\n",
      "====> Epoch: 13 Average loss: 0.1437\n",
      "====> Test set loss: 0.1435\n",
      "Train Epoch: 14 [0/60000 (0%)]\tLoss: 0.145035\n",
      "Train Epoch: 14 [20000/60000 (33%)]\tLoss: 0.144020\n",
      "Train Epoch: 14 [40000/60000 (67%)]\tLoss: 0.145720\n",
      "====> Epoch: 14 Average loss: 0.1430\n",
      "====> Test set loss: 0.1428\n",
      "Train Epoch: 15 [0/60000 (0%)]\tLoss: 0.141200\n",
      "Train Epoch: 15 [20000/60000 (33%)]\tLoss: 0.146710\n",
      "Train Epoch: 15 [40000/60000 (67%)]\tLoss: 0.148118\n",
      "====> Epoch: 15 Average loss: 0.1424\n",
      "====> Test set loss: 0.1422\n",
      "Train Epoch: 16 [0/60000 (0%)]\tLoss: 0.142959\n",
      "Train Epoch: 16 [20000/60000 (33%)]\tLoss: 0.135717\n",
      "Train Epoch: 16 [40000/60000 (67%)]\tLoss: 0.137858\n",
      "====> Epoch: 16 Average loss: 0.1418\n",
      "====> Test set loss: 0.1416\n",
      "Train Epoch: 17 [0/60000 (0%)]\tLoss: 0.141820\n",
      "Train Epoch: 17 [20000/60000 (33%)]\tLoss: 0.143537\n",
      "Train Epoch: 17 [40000/60000 (67%)]\tLoss: 0.141199\n",
      "====> Epoch: 17 Average loss: 0.1413\n",
      "====> Test set loss: 0.1414\n",
      "Train Epoch: 18 [0/60000 (0%)]\tLoss: 0.135732\n",
      "Train Epoch: 18 [20000/60000 (33%)]\tLoss: 0.138524\n",
      "Train Epoch: 18 [40000/60000 (67%)]\tLoss: 0.140429\n",
      "====> Epoch: 18 Average loss: 0.1410\n",
      "====> Test set loss: 0.1411\n",
      "Train Epoch: 19 [0/60000 (0%)]\tLoss: 0.143821\n",
      "Train Epoch: 19 [20000/60000 (33%)]\tLoss: 0.139120\n",
      "Train Epoch: 19 [40000/60000 (67%)]\tLoss: 0.138475\n",
      "====> Epoch: 19 Average loss: 0.1405\n",
      "====> Test set loss: 0.1412\n",
      "Train Epoch: 20 [0/60000 (0%)]\tLoss: 0.133589\n",
      "Train Epoch: 20 [20000/60000 (33%)]\tLoss: 0.139339\n",
      "Train Epoch: 20 [40000/60000 (67%)]\tLoss: 0.142352\n",
      "====> Epoch: 20 Average loss: 0.1401\n",
      "====> Test set loss: 0.1405\n",
      "Train Epoch: 21 [0/60000 (0%)]\tLoss: 0.135622\n",
      "Train Epoch: 21 [20000/60000 (33%)]\tLoss: 0.136871\n",
      "Train Epoch: 21 [40000/60000 (67%)]\tLoss: 0.136746\n",
      "====> Epoch: 21 Average loss: 0.1397\n",
      "====> Test set loss: 0.1401\n",
      "Train Epoch: 22 [0/60000 (0%)]\tLoss: 0.140972\n",
      "Train Epoch: 22 [20000/60000 (33%)]\tLoss: 0.137555\n",
      "Train Epoch: 22 [40000/60000 (67%)]\tLoss: 0.139491\n",
      "====> Epoch: 22 Average loss: 0.1394\n",
      "====> Test set loss: 0.1404\n",
      "Train Epoch: 23 [0/60000 (0%)]\tLoss: 0.139548\n",
      "Train Epoch: 23 [20000/60000 (33%)]\tLoss: 0.140415\n",
      "Train Epoch: 23 [40000/60000 (67%)]\tLoss: 0.141073\n",
      "====> Epoch: 23 Average loss: 0.1391\n",
      "====> Test set loss: 0.1400\n",
      "Train Epoch: 24 [0/60000 (0%)]\tLoss: 0.139534\n",
      "Train Epoch: 24 [20000/60000 (33%)]\tLoss: 0.137265\n",
      "Train Epoch: 24 [40000/60000 (67%)]\tLoss: 0.140477\n",
      "====> Epoch: 24 Average loss: 0.1387\n",
      "====> Test set loss: 0.1397\n",
      "Train Epoch: 25 [0/60000 (0%)]\tLoss: 0.138502\n",
      "Train Epoch: 25 [20000/60000 (33%)]\tLoss: 0.133377\n",
      "Train Epoch: 25 [40000/60000 (67%)]\tLoss: 0.141070\n",
      "====> Epoch: 25 Average loss: 0.1384\n",
      "====> Test set loss: 0.1397\n",
      "Train Epoch: 26 [0/60000 (0%)]\tLoss: 0.136891\n",
      "Train Epoch: 26 [20000/60000 (33%)]\tLoss: 0.133699\n",
      "Train Epoch: 26 [40000/60000 (67%)]\tLoss: 0.138694\n",
      "====> Epoch: 26 Average loss: 0.1382\n",
      "====> Test set loss: 0.1390\n",
      "Train Epoch: 27 [0/60000 (0%)]\tLoss: 0.138595\n",
      "Train Epoch: 27 [20000/60000 (33%)]\tLoss: 0.138153\n",
      "Train Epoch: 27 [40000/60000 (67%)]\tLoss: 0.138408\n",
      "====> Epoch: 27 Average loss: 0.1379\n",
      "====> Test set loss: 0.1391\n",
      "Train Epoch: 28 [0/60000 (0%)]\tLoss: 0.129044\n",
      "Train Epoch: 28 [20000/60000 (33%)]\tLoss: 0.136241\n",
      "Train Epoch: 28 [40000/60000 (67%)]\tLoss: 0.138012\n",
      "====> Epoch: 28 Average loss: 0.1378\n",
      "====> Test set loss: 0.1386\n",
      "Train Epoch: 29 [0/60000 (0%)]\tLoss: 0.139107\n",
      "Train Epoch: 29 [20000/60000 (33%)]\tLoss: 0.136002\n",
      "Train Epoch: 29 [40000/60000 (67%)]\tLoss: 0.138147\n",
      "====> Epoch: 29 Average loss: 0.1376\n",
      "====> Test set loss: 0.1385\n",
      "Train Epoch: 30 [0/60000 (0%)]\tLoss: 0.135962\n",
      "Train Epoch: 30 [20000/60000 (33%)]\tLoss: 0.138106\n",
      "Train Epoch: 30 [40000/60000 (67%)]\tLoss: 0.134219\n",
      "====> Epoch: 30 Average loss: 0.1372\n",
      "====> Test set loss: 0.1384\n",
      "Train Epoch: 31 [0/60000 (0%)]\tLoss: 0.146383\n",
      "Train Epoch: 31 [20000/60000 (33%)]\tLoss: 0.134417\n",
      "Train Epoch: 31 [40000/60000 (67%)]\tLoss: 0.138216\n",
      "====> Epoch: 31 Average loss: 0.1370\n",
      "====> Test set loss: 0.1384\n",
      "Train Epoch: 32 [0/60000 (0%)]\tLoss: 0.136801\n",
      "Train Epoch: 32 [20000/60000 (33%)]\tLoss: 0.132504\n",
      "Train Epoch: 32 [40000/60000 (67%)]\tLoss: 0.132285\n",
      "====> Epoch: 32 Average loss: 0.1369\n",
      "====> Test set loss: 0.1385\n",
      "Train Epoch: 33 [0/60000 (0%)]\tLoss: 0.133458\n",
      "Train Epoch: 33 [20000/60000 (33%)]\tLoss: 0.137284\n",
      "Train Epoch: 33 [40000/60000 (67%)]\tLoss: 0.135456\n",
      "====> Epoch: 33 Average loss: 0.1367\n",
      "====> Test set loss: 0.1382\n",
      "Train Epoch: 34 [0/60000 (0%)]\tLoss: 0.141075\n",
      "Train Epoch: 34 [20000/60000 (33%)]\tLoss: 0.139174\n",
      "Train Epoch: 34 [40000/60000 (67%)]\tLoss: 0.136773\n",
      "====> Epoch: 34 Average loss: 0.1366\n",
      "====> Test set loss: 0.1383\n",
      "Train Epoch: 35 [0/60000 (0%)]\tLoss: 0.135081\n",
      "Train Epoch: 35 [20000/60000 (33%)]\tLoss: 0.142048\n",
      "Train Epoch: 35 [40000/60000 (67%)]\tLoss: 0.132061\n",
      "====> Epoch: 35 Average loss: 0.1363\n",
      "====> Test set loss: 0.1382\n",
      "Train Epoch: 36 [0/60000 (0%)]\tLoss: 0.137960\n",
      "Train Epoch: 36 [20000/60000 (33%)]\tLoss: 0.135582\n",
      "Train Epoch: 36 [40000/60000 (67%)]\tLoss: 0.136497\n",
      "====> Epoch: 36 Average loss: 0.1362\n",
      "====> Test set loss: 0.1377\n",
      "Train Epoch: 37 [0/60000 (0%)]\tLoss: 0.137582\n",
      "Train Epoch: 37 [20000/60000 (33%)]\tLoss: 0.134790\n",
      "Train Epoch: 37 [40000/60000 (67%)]\tLoss: 0.131807\n",
      "====> Epoch: 37 Average loss: 0.1360\n",
      "====> Test set loss: 0.1380\n",
      "Train Epoch: 38 [0/60000 (0%)]\tLoss: 0.134287\n",
      "Train Epoch: 38 [20000/60000 (33%)]\tLoss: 0.135800\n",
      "Train Epoch: 38 [40000/60000 (67%)]\tLoss: 0.135374\n",
      "====> Epoch: 38 Average loss: 0.1359\n",
      "====> Test set loss: 0.1380\n",
      "Train Epoch: 39 [0/60000 (0%)]\tLoss: 0.137392\n",
      "Train Epoch: 39 [20000/60000 (33%)]\tLoss: 0.140507\n",
      "Train Epoch: 39 [40000/60000 (67%)]\tLoss: 0.135722\n",
      "====> Epoch: 39 Average loss: 0.1358\n",
      "====> Test set loss: 0.1379\n",
      "Train Epoch: 40 [0/60000 (0%)]\tLoss: 0.134356\n",
      "Train Epoch: 40 [20000/60000 (33%)]\tLoss: 0.137105\n",
      "Train Epoch: 40 [40000/60000 (67%)]\tLoss: 0.134502\n",
      "====> Epoch: 40 Average loss: 0.1356\n",
      "====> Test set loss: 0.1375\n",
      "Train Epoch: 41 [0/60000 (0%)]\tLoss: 0.131934\n",
      "Train Epoch: 41 [20000/60000 (33%)]\tLoss: 0.132334\n",
      "Train Epoch: 41 [40000/60000 (67%)]\tLoss: 0.143538\n",
      "====> Epoch: 41 Average loss: 0.1355\n",
      "====> Test set loss: 0.1370\n",
      "Train Epoch: 42 [0/60000 (0%)]\tLoss: 0.134722\n",
      "Train Epoch: 42 [20000/60000 (33%)]\tLoss: 0.133985\n",
      "Train Epoch: 42 [40000/60000 (67%)]\tLoss: 0.135138\n",
      "====> Epoch: 42 Average loss: 0.1353\n",
      "====> Test set loss: 0.1371\n",
      "Train Epoch: 43 [0/60000 (0%)]\tLoss: 0.133123\n",
      "Train Epoch: 43 [20000/60000 (33%)]\tLoss: 0.133913\n",
      "Train Epoch: 43 [40000/60000 (67%)]\tLoss: 0.137798\n",
      "====> Epoch: 43 Average loss: 0.1352\n",
      "====> Test set loss: 0.1372\n",
      "Train Epoch: 44 [0/60000 (0%)]\tLoss: 0.132334\n",
      "Train Epoch: 44 [20000/60000 (33%)]\tLoss: 0.136263\n",
      "Train Epoch: 44 [40000/60000 (67%)]\tLoss: 0.128741\n",
      "====> Epoch: 44 Average loss: 0.1351\n",
      "====> Test set loss: 0.1372\n",
      "Train Epoch: 45 [0/60000 (0%)]\tLoss: 0.135112\n",
      "Train Epoch: 45 [20000/60000 (33%)]\tLoss: 0.134182\n",
      "Train Epoch: 45 [40000/60000 (67%)]\tLoss: 0.134797\n",
      "====> Epoch: 45 Average loss: 0.1350\n",
      "====> Test set loss: 0.1373\n",
      "Train Epoch: 46 [0/60000 (0%)]\tLoss: 0.135823\n",
      "Train Epoch: 46 [20000/60000 (33%)]\tLoss: 0.129451\n",
      "Train Epoch: 46 [40000/60000 (67%)]\tLoss: 0.135638\n",
      "====> Epoch: 46 Average loss: 0.1349\n",
      "====> Test set loss: 0.1373\n",
      "Train Epoch: 47 [0/60000 (0%)]\tLoss: 0.135251\n",
      "Train Epoch: 47 [20000/60000 (33%)]\tLoss: 0.137025\n",
      "Train Epoch: 47 [40000/60000 (67%)]\tLoss: 0.130618\n",
      "====> Epoch: 47 Average loss: 0.1346\n",
      "====> Test set loss: 0.1369\n",
      "Train Epoch: 48 [0/60000 (0%)]\tLoss: 0.129993\n",
      "Train Epoch: 48 [20000/60000 (33%)]\tLoss: 0.131244\n",
      "Train Epoch: 48 [40000/60000 (67%)]\tLoss: 0.138097\n",
      "====> Epoch: 48 Average loss: 0.1347\n",
      "====> Test set loss: 0.1369\n",
      "Train Epoch: 49 [0/60000 (0%)]\tLoss: 0.135339\n",
      "Train Epoch: 49 [20000/60000 (33%)]\tLoss: 0.137401\n",
      "Train Epoch: 49 [40000/60000 (67%)]\tLoss: 0.136758\n",
      "====> Epoch: 49 Average loss: 0.1345\n",
      "====> Test set loss: 0.1369\n",
      "Train Epoch: 50 [0/60000 (0%)]\tLoss: 0.135854\n",
      "Train Epoch: 50 [20000/60000 (33%)]\tLoss: 0.134330\n",
      "Train Epoch: 50 [40000/60000 (67%)]\tLoss: 0.138901\n",
      "====> Epoch: 50 Average loss: 0.1344\n",
      "====> Test set loss: 0.1370\n"
     ]
    }
   ],
   "source": [
    "for epoch in range(1, 51):\n",
    "    train(epoch)\n",
    "    test()"
   ]
  },
  {
   "cell_type": "markdown",
   "metadata": {},
   "source": [
    "# Visually verify that all looks good"
   ]
  },
  {
   "cell_type": "code",
   "execution_count": 6,
   "metadata": {},
   "outputs": [
    {
     "name": "stderr",
     "output_type": "stream",
     "text": [
      "/u/abhi24/matlaberp2/posthoc_privacy/.projenv/lib/python3.8/site-packages/torch/nn/functional.py:1639: UserWarning: nn.functional.sigmoid is deprecated. Use torch.sigmoid instead.\n",
      "  warnings.warn(\"nn.functional.sigmoid is deprecated. Use torch.sigmoid instead.\")\n"
     ]
    }
   ],
   "source": [
    "with torch.no_grad():\n",
    "    z = torch.randn(64, 8).cuda()\n",
    "    sample = vae.decoder(z).cuda()\n",
    "    \n",
    "    save_image(sample.view(64, 1, 28, 28), './samples/mnist_sample_' + '.png')"
   ]
  },
  {
   "cell_type": "markdown",
   "metadata": {},
   "source": [
    "# Save the VAE model"
   ]
  },
  {
   "cell_type": "code",
   "execution_count": 13,
   "metadata": {},
   "outputs": [],
   "source": [
    "torch.save(vae.state_dict(), \"saved_models/vae.pt\")"
   ]
  },
  {
   "cell_type": "markdown",
   "metadata": {},
   "source": [
    "## Load the VAE model if saved"
   ]
  },
  {
   "cell_type": "code",
   "execution_count": 5,
   "metadata": {},
   "outputs": [
    {
     "data": {
      "text/plain": [
       "<All keys matched successfully>"
      ]
     },
     "execution_count": 5,
     "metadata": {},
     "output_type": "execute_result"
    }
   ],
   "source": [
    "vae.load_state_dict(torch.load(\"saved_models/vae.pt\"))"
   ]
  },
  {
   "cell_type": "markdown",
   "metadata": {},
   "source": [
    "# Part-2: Jointly train the obfuscator, prediction model, and reconstruction model"
   ]
  },
  {
   "cell_type": "markdown",
   "metadata": {},
   "source": [
    "## First initialize the three models"
   ]
  },
  {
   "cell_type": "code",
   "execution_count": 124,
   "metadata": {},
   "outputs": [],
   "source": [
    "obf_out_size = 5\n",
    "obf_layer_sizes = [8, 10, 10, 6, obf_out_size]\n",
    "obfuscator = ReLUNet(obf_layer_sizes).cuda()\n",
    "\n",
    "pred_layer_sizes = [obf_out_size, 10, 10]\n",
    "pred_model = ReLUNet(pred_layer_sizes).cuda()\n",
    "\n",
    "adv_model_params = {\"channels\": obf_out_size, \"output_channels\": 1, \"downsampling\": 0, \"offset\": 4}\n",
    "adv_model = AdversaryModelGen(adv_model_params).cuda()"
   ]
  },
  {
   "cell_type": "code",
   "execution_count": 125,
   "metadata": {},
   "outputs": [],
   "source": [
    "pred_loss_fn = torch.nn.CrossEntropyLoss()\n",
    "rec_loss_fn = torch.nn.MSELoss()"
   ]
  },
  {
   "cell_type": "code",
   "execution_count": 126,
   "metadata": {},
   "outputs": [],
   "source": [
    "obf_optimizer = optim.Adam(obfuscator.parameters())\n",
    "pred_optimizer = optim.Adam(pred_model.parameters())\n",
    "adv_optimizer = optim.Adam(adv_model.parameters())"
   ]
  },
  {
   "cell_type": "code",
   "execution_count": 127,
   "metadata": {},
   "outputs": [],
   "source": [
    "def train(epoch):\n",
    "    vae.eval()\n",
    "    train_loss = 0\n",
    "    for batch_idx, (data, labels) in enumerate(train_loader):\n",
    "\n",
    "        data, labels = data.cuda(), labels.cuda()\n",
    "        # get sample embedding from the VAE\n",
    "        with torch.no_grad():\n",
    "            mu, log_var = vae.encoder(data.view(-1, 784))\n",
    "            z = vae.sampling(mu, log_var)\n",
    "        \n",
    "        # pass it through obfuscator\n",
    "        z_tilde = obfuscator(z)\n",
    "        # pass obfuscated z through pred_model\n",
    "        preds = pred_model(z_tilde)\n",
    "        \n",
    "        # train obfuscator and pred_model\n",
    "        pred_loss = pred_loss_fn(preds, labels)\n",
    "        pred_optimizer.zero_grad()\n",
    "        obf_optimizer.zero_grad()\n",
    "        pred_loss.backward(retain_graph=True)\n",
    "        pred_optimizer.step()\n",
    "        obf_optimizer.step()\n",
    "\n",
    "        # pass obfuscated z to adv_model\n",
    "        rec = adv_model(z_tilde.detach())\n",
    "        rec_loss = rec_loss_fn(rec, data)\n",
    "        adv_optimizer.zero_grad()\n",
    "        rec_loss.backward(retain_graph=True)\n",
    "        adv_optimizer.step()\n",
    "        \n",
    "        # maximizing reconstruction loss by obfuscator\n",
    "        z_tilde = obfuscator(z)\n",
    "        rec = adv_model(z_tilde)\n",
    "        rec_loss = rec_loss_fn(rec, data)\n",
    "        obf_optimizer.zero_grad()\n",
    "        (-100*rec_loss).backward()\n",
    "        obf_optimizer.step()\n",
    "\n",
    "        loss = pred_loss + rec_loss\n",
    "        \n",
    "        train_loss += loss.item()\n",
    "        \n",
    "        if batch_idx % 100 == 0:\n",
    "            print('Train Epoch: {} [{}/{} ({:.0f}%)]\\tLoss: {:.6f}, pred_loss {:.3f}, rec_loss {:.3f}'.format(\n",
    "                epoch, batch_idx * len(data), len(train_loader.dataset),\n",
    "                100. * batch_idx / len(train_loader), loss.item() / len(data), pred_loss.item(), rec_loss.item()))\n",
    "    print('====> Epoch: {} Average loss: {:.4f}'.format(epoch, train_loss / len(train_loader.dataset)))"
   ]
  },
  {
   "cell_type": "code",
   "execution_count": 128,
   "metadata": {},
   "outputs": [],
   "source": [
    "def test():\n",
    "    vae.eval()\n",
    "    test_pred_loss= 0\n",
    "    test_rec_loss= 0\n",
    "    pred_correct = 0\n",
    "    with torch.no_grad():\n",
    "        for data, labels in test_loader:\n",
    "            data, labels = data.cuda(), labels.cuda()\n",
    "            # get sample embedding from the VAE\n",
    "            mu, log_var = vae.encoder(data.view(-1, 784))\n",
    "            z = vae.sampling(mu, log_var)\n",
    "\n",
    "            # pass it through obfuscator\n",
    "            z_tilde = obfuscator(z)\n",
    "            # pass obfuscated z through pred_model\n",
    "            preds = pred_model(z_tilde)\n",
    "            pred_correct += (preds.argmax(dim=1) == labels).sum()\n",
    "\n",
    "            # train obfuscator and pred_model\n",
    "            pred_loss = pred_loss_fn(preds, labels)\n",
    "\n",
    "            # pass obfuscated z to adv_model\n",
    "            rec = adv_model(z_tilde)\n",
    "            rec_loss = rec_loss_fn(rec, data)\n",
    "\n",
    "            test_pred_loss += pred_loss.item()\n",
    "            test_rec_loss += rec_loss.item()\n",
    "        \n",
    "    test_pred_loss /= len(test_loader.dataset)\n",
    "    test_rec_loss /= len(test_loader.dataset)\n",
    "    pred_acc = pred_correct.item() / len(test_loader.dataset)\n",
    "    print('====> Test pred loss: {:.4f}, rec loss {:.4f}, acc {:.2f}'.format(test_pred_loss, test_rec_loss, pred_acc))"
   ]
  },
  {
   "cell_type": "code",
   "execution_count": 129,
   "metadata": {},
   "outputs": [
    {
     "name": "stdout",
     "output_type": "stream",
     "text": [
      "====> Test pred loss: 0.0116, rec loss 0.0012, acc 0.10\n"
     ]
    }
   ],
   "source": [
    "test()"
   ]
  },
  {
   "cell_type": "code",
   "execution_count": 130,
   "metadata": {
    "tags": []
   },
   "outputs": [
    {
     "name": "stdout",
     "output_type": "stream",
     "text": [
      "Train Epoch: 1 [0/60000 (0%)]\tLoss: 0.012570, pred_loss 2.343, rec_loss 0.171\n",
      "Train Epoch: 1 [20000/60000 (33%)]\tLoss: 0.011803, pred_loss 2.295, rec_loss 0.066\n",
      "Train Epoch: 1 [40000/60000 (67%)]\tLoss: 0.011846, pred_loss 2.300, rec_loss 0.069\n",
      "====> Epoch: 1 Average loss: 0.0119\n",
      "====> Test pred loss: 0.0115, rec loss 0.0003, acc 0.11\n",
      "Train Epoch: 2 [0/60000 (0%)]\tLoss: 0.011856, pred_loss 2.303, rec_loss 0.068\n",
      "Train Epoch: 2 [20000/60000 (33%)]\tLoss: 0.011817, pred_loss 2.298, rec_loss 0.066\n",
      "Train Epoch: 2 [40000/60000 (67%)]\tLoss: 0.011863, pred_loss 2.306, rec_loss 0.066\n",
      "====> Epoch: 2 Average loss: 0.0118\n",
      "====> Test pred loss: 0.0115, rec loss 0.0003, acc 0.11\n",
      "Train Epoch: 3 [0/60000 (0%)]\tLoss: 0.011841, pred_loss 2.298, rec_loss 0.070\n",
      "Train Epoch: 3 [20000/60000 (33%)]\tLoss: 0.011828, pred_loss 2.300, rec_loss 0.066\n",
      "Train Epoch: 3 [40000/60000 (67%)]\tLoss: 0.011817, pred_loss 2.296, rec_loss 0.067\n",
      "====> Epoch: 3 Average loss: 0.0118\n",
      "====> Test pred loss: 0.0115, rec loss 0.0003, acc 0.11\n",
      "Train Epoch: 4 [0/60000 (0%)]\tLoss: 0.011799, pred_loss 2.291, rec_loss 0.069\n",
      "Train Epoch: 4 [20000/60000 (33%)]\tLoss: 0.011835, pred_loss 2.298, rec_loss 0.069\n",
      "Train Epoch: 4 [40000/60000 (67%)]\tLoss: 0.011810, pred_loss 2.296, rec_loss 0.066\n",
      "====> Epoch: 4 Average loss: 0.0118\n",
      "====> Test pred loss: 0.0115, rec loss 0.0003, acc 0.11\n",
      "Train Epoch: 5 [0/60000 (0%)]\tLoss: 0.011843, pred_loss 2.300, rec_loss 0.069\n",
      "Train Epoch: 5 [20000/60000 (33%)]\tLoss: 0.011843, pred_loss 2.300, rec_loss 0.069\n",
      "Train Epoch: 5 [40000/60000 (67%)]\tLoss: 0.011816, pred_loss 2.297, rec_loss 0.067\n",
      "====> Epoch: 5 Average loss: 0.0118\n",
      "====> Test pred loss: 0.0115, rec loss 0.0003, acc 0.11\n",
      "Train Epoch: 6 [0/60000 (0%)]\tLoss: 0.011821, pred_loss 2.296, rec_loss 0.068\n"
     ]
    },
    {
     "ename": "KeyboardInterrupt",
     "evalue": "",
     "output_type": "error",
     "traceback": [
      "\u001b[0;31m---------------------------------------------------------------------------\u001b[0m",
      "\u001b[0;31mKeyboardInterrupt\u001b[0m                         Traceback (most recent call last)",
      "Input \u001b[0;32mIn [130]\u001b[0m, in \u001b[0;36m<cell line: 1>\u001b[0;34m()\u001b[0m\n\u001b[1;32m      1\u001b[0m \u001b[38;5;28;01mfor\u001b[39;00m epoch \u001b[38;5;129;01min\u001b[39;00m \u001b[38;5;28mrange\u001b[39m(\u001b[38;5;241m1\u001b[39m, \u001b[38;5;241m51\u001b[39m):\n\u001b[0;32m----> 2\u001b[0m     \u001b[43mtrain\u001b[49m\u001b[43m(\u001b[49m\u001b[43mepoch\u001b[49m\u001b[43m)\u001b[49m\n\u001b[1;32m      3\u001b[0m     test()\n",
      "Input \u001b[0;32mIn [127]\u001b[0m, in \u001b[0;36mtrain\u001b[0;34m(epoch)\u001b[0m\n\u001b[1;32m      2\u001b[0m vae\u001b[38;5;241m.\u001b[39meval()\n\u001b[1;32m      3\u001b[0m train_loss \u001b[38;5;241m=\u001b[39m \u001b[38;5;241m0\u001b[39m\n\u001b[0;32m----> 4\u001b[0m \u001b[38;5;28;01mfor\u001b[39;00m batch_idx, (data, labels) \u001b[38;5;129;01min\u001b[39;00m \u001b[38;5;28menumerate\u001b[39m(train_loader):\n\u001b[1;32m      6\u001b[0m     data, labels \u001b[38;5;241m=\u001b[39m data\u001b[38;5;241m.\u001b[39mcuda(), labels\u001b[38;5;241m.\u001b[39mcuda()\n\u001b[1;32m      7\u001b[0m     \u001b[38;5;66m# get sample embedding from the VAE\u001b[39m\n",
      "File \u001b[0;32m~/matlaberp2/posthoc_privacy/.projenv/lib/python3.8/site-packages/torch/utils/data/dataloader.py:435\u001b[0m, in \u001b[0;36m_BaseDataLoaderIter.__next__\u001b[0;34m(self)\u001b[0m\n\u001b[1;32m    433\u001b[0m \u001b[38;5;28;01mif\u001b[39;00m \u001b[38;5;28mself\u001b[39m\u001b[38;5;241m.\u001b[39m_sampler_iter \u001b[38;5;129;01mis\u001b[39;00m \u001b[38;5;28;01mNone\u001b[39;00m:\n\u001b[1;32m    434\u001b[0m     \u001b[38;5;28mself\u001b[39m\u001b[38;5;241m.\u001b[39m_reset()\n\u001b[0;32m--> 435\u001b[0m data \u001b[38;5;241m=\u001b[39m \u001b[38;5;28;43mself\u001b[39;49m\u001b[38;5;241;43m.\u001b[39;49m\u001b[43m_next_data\u001b[49m\u001b[43m(\u001b[49m\u001b[43m)\u001b[49m\n\u001b[1;32m    436\u001b[0m \u001b[38;5;28mself\u001b[39m\u001b[38;5;241m.\u001b[39m_num_yielded \u001b[38;5;241m+\u001b[39m\u001b[38;5;241m=\u001b[39m \u001b[38;5;241m1\u001b[39m\n\u001b[1;32m    437\u001b[0m \u001b[38;5;28;01mif\u001b[39;00m \u001b[38;5;28mself\u001b[39m\u001b[38;5;241m.\u001b[39m_dataset_kind \u001b[38;5;241m==\u001b[39m _DatasetKind\u001b[38;5;241m.\u001b[39mIterable \u001b[38;5;129;01mand\u001b[39;00m \\\n\u001b[1;32m    438\u001b[0m         \u001b[38;5;28mself\u001b[39m\u001b[38;5;241m.\u001b[39m_IterableDataset_len_called \u001b[38;5;129;01mis\u001b[39;00m \u001b[38;5;129;01mnot\u001b[39;00m \u001b[38;5;28;01mNone\u001b[39;00m \u001b[38;5;129;01mand\u001b[39;00m \\\n\u001b[1;32m    439\u001b[0m         \u001b[38;5;28mself\u001b[39m\u001b[38;5;241m.\u001b[39m_num_yielded \u001b[38;5;241m>\u001b[39m \u001b[38;5;28mself\u001b[39m\u001b[38;5;241m.\u001b[39m_IterableDataset_len_called:\n",
      "File \u001b[0;32m~/matlaberp2/posthoc_privacy/.projenv/lib/python3.8/site-packages/torch/utils/data/dataloader.py:475\u001b[0m, in \u001b[0;36m_SingleProcessDataLoaderIter._next_data\u001b[0;34m(self)\u001b[0m\n\u001b[1;32m    473\u001b[0m \u001b[38;5;28;01mdef\u001b[39;00m \u001b[38;5;21m_next_data\u001b[39m(\u001b[38;5;28mself\u001b[39m):\n\u001b[1;32m    474\u001b[0m     index \u001b[38;5;241m=\u001b[39m \u001b[38;5;28mself\u001b[39m\u001b[38;5;241m.\u001b[39m_next_index()  \u001b[38;5;66m# may raise StopIteration\u001b[39m\n\u001b[0;32m--> 475\u001b[0m     data \u001b[38;5;241m=\u001b[39m \u001b[38;5;28;43mself\u001b[39;49m\u001b[38;5;241;43m.\u001b[39;49m\u001b[43m_dataset_fetcher\u001b[49m\u001b[38;5;241;43m.\u001b[39;49m\u001b[43mfetch\u001b[49m\u001b[43m(\u001b[49m\u001b[43mindex\u001b[49m\u001b[43m)\u001b[49m  \u001b[38;5;66m# may raise StopIteration\u001b[39m\n\u001b[1;32m    476\u001b[0m     \u001b[38;5;28;01mif\u001b[39;00m \u001b[38;5;28mself\u001b[39m\u001b[38;5;241m.\u001b[39m_pin_memory:\n\u001b[1;32m    477\u001b[0m         data \u001b[38;5;241m=\u001b[39m _utils\u001b[38;5;241m.\u001b[39mpin_memory\u001b[38;5;241m.\u001b[39mpin_memory(data)\n",
      "File \u001b[0;32m~/matlaberp2/posthoc_privacy/.projenv/lib/python3.8/site-packages/torch/utils/data/_utils/fetch.py:44\u001b[0m, in \u001b[0;36m_MapDatasetFetcher.fetch\u001b[0;34m(self, possibly_batched_index)\u001b[0m\n\u001b[1;32m     42\u001b[0m \u001b[38;5;28;01mdef\u001b[39;00m \u001b[38;5;21mfetch\u001b[39m(\u001b[38;5;28mself\u001b[39m, possibly_batched_index):\n\u001b[1;32m     43\u001b[0m     \u001b[38;5;28;01mif\u001b[39;00m \u001b[38;5;28mself\u001b[39m\u001b[38;5;241m.\u001b[39mauto_collation:\n\u001b[0;32m---> 44\u001b[0m         data \u001b[38;5;241m=\u001b[39m [\u001b[38;5;28mself\u001b[39m\u001b[38;5;241m.\u001b[39mdataset[idx] \u001b[38;5;28;01mfor\u001b[39;00m idx \u001b[38;5;129;01min\u001b[39;00m possibly_batched_index]\n\u001b[1;32m     45\u001b[0m     \u001b[38;5;28;01melse\u001b[39;00m:\n\u001b[1;32m     46\u001b[0m         data \u001b[38;5;241m=\u001b[39m \u001b[38;5;28mself\u001b[39m\u001b[38;5;241m.\u001b[39mdataset[possibly_batched_index]\n",
      "File \u001b[0;32m~/matlaberp2/posthoc_privacy/.projenv/lib/python3.8/site-packages/torch/utils/data/_utils/fetch.py:44\u001b[0m, in \u001b[0;36m<listcomp>\u001b[0;34m(.0)\u001b[0m\n\u001b[1;32m     42\u001b[0m \u001b[38;5;28;01mdef\u001b[39;00m \u001b[38;5;21mfetch\u001b[39m(\u001b[38;5;28mself\u001b[39m, possibly_batched_index):\n\u001b[1;32m     43\u001b[0m     \u001b[38;5;28;01mif\u001b[39;00m \u001b[38;5;28mself\u001b[39m\u001b[38;5;241m.\u001b[39mauto_collation:\n\u001b[0;32m---> 44\u001b[0m         data \u001b[38;5;241m=\u001b[39m [\u001b[38;5;28;43mself\u001b[39;49m\u001b[38;5;241;43m.\u001b[39;49m\u001b[43mdataset\u001b[49m\u001b[43m[\u001b[49m\u001b[43midx\u001b[49m\u001b[43m]\u001b[49m \u001b[38;5;28;01mfor\u001b[39;00m idx \u001b[38;5;129;01min\u001b[39;00m possibly_batched_index]\n\u001b[1;32m     45\u001b[0m     \u001b[38;5;28;01melse\u001b[39;00m:\n\u001b[1;32m     46\u001b[0m         data \u001b[38;5;241m=\u001b[39m \u001b[38;5;28mself\u001b[39m\u001b[38;5;241m.\u001b[39mdataset[possibly_batched_index]\n",
      "File \u001b[0;32m~/matlaberp2/posthoc_privacy/.projenv/lib/python3.8/site-packages/torchvision/datasets/mnist.py:106\u001b[0m, in \u001b[0;36mMNIST.__getitem__\u001b[0;34m(self, index)\u001b[0m\n\u001b[1;32m    103\u001b[0m img \u001b[38;5;241m=\u001b[39m Image\u001b[38;5;241m.\u001b[39mfromarray(img\u001b[38;5;241m.\u001b[39mnumpy(), mode\u001b[38;5;241m=\u001b[39m\u001b[38;5;124m'\u001b[39m\u001b[38;5;124mL\u001b[39m\u001b[38;5;124m'\u001b[39m)\n\u001b[1;32m    105\u001b[0m \u001b[38;5;28;01mif\u001b[39;00m \u001b[38;5;28mself\u001b[39m\u001b[38;5;241m.\u001b[39mtransform \u001b[38;5;129;01mis\u001b[39;00m \u001b[38;5;129;01mnot\u001b[39;00m \u001b[38;5;28;01mNone\u001b[39;00m:\n\u001b[0;32m--> 106\u001b[0m     img \u001b[38;5;241m=\u001b[39m \u001b[38;5;28;43mself\u001b[39;49m\u001b[38;5;241;43m.\u001b[39;49m\u001b[43mtransform\u001b[49m\u001b[43m(\u001b[49m\u001b[43mimg\u001b[49m\u001b[43m)\u001b[49m\n\u001b[1;32m    108\u001b[0m \u001b[38;5;28;01mif\u001b[39;00m \u001b[38;5;28mself\u001b[39m\u001b[38;5;241m.\u001b[39mtarget_transform \u001b[38;5;129;01mis\u001b[39;00m \u001b[38;5;129;01mnot\u001b[39;00m \u001b[38;5;28;01mNone\u001b[39;00m:\n\u001b[1;32m    109\u001b[0m     target \u001b[38;5;241m=\u001b[39m \u001b[38;5;28mself\u001b[39m\u001b[38;5;241m.\u001b[39mtarget_transform(target)\n",
      "File \u001b[0;32m~/matlaberp2/posthoc_privacy/.projenv/lib/python3.8/site-packages/torchvision/transforms/transforms.py:104\u001b[0m, in \u001b[0;36mToTensor.__call__\u001b[0;34m(self, pic)\u001b[0m\n\u001b[1;32m     96\u001b[0m \u001b[38;5;28;01mdef\u001b[39;00m \u001b[38;5;21m__call__\u001b[39m(\u001b[38;5;28mself\u001b[39m, pic):\n\u001b[1;32m     97\u001b[0m     \u001b[38;5;124m\"\"\"\u001b[39m\n\u001b[1;32m     98\u001b[0m \u001b[38;5;124m    Args:\u001b[39m\n\u001b[1;32m     99\u001b[0m \u001b[38;5;124m        pic (PIL Image or numpy.ndarray): Image to be converted to tensor.\u001b[39m\n\u001b[0;32m   (...)\u001b[0m\n\u001b[1;32m    102\u001b[0m \u001b[38;5;124m        Tensor: Converted image.\u001b[39m\n\u001b[1;32m    103\u001b[0m \u001b[38;5;124m    \"\"\"\u001b[39m\n\u001b[0;32m--> 104\u001b[0m     \u001b[38;5;28;01mreturn\u001b[39;00m \u001b[43mF\u001b[49m\u001b[38;5;241;43m.\u001b[39;49m\u001b[43mto_tensor\u001b[49m\u001b[43m(\u001b[49m\u001b[43mpic\u001b[49m\u001b[43m)\u001b[49m\n",
      "File \u001b[0;32m~/matlaberp2/posthoc_privacy/.projenv/lib/python3.8/site-packages/torchvision/transforms/functional.py:102\u001b[0m, in \u001b[0;36mto_tensor\u001b[0;34m(pic)\u001b[0m\n\u001b[1;32m    100\u001b[0m img \u001b[38;5;241m=\u001b[39m img\u001b[38;5;241m.\u001b[39mpermute((\u001b[38;5;241m2\u001b[39m, \u001b[38;5;241m0\u001b[39m, \u001b[38;5;241m1\u001b[39m))\u001b[38;5;241m.\u001b[39mcontiguous()\n\u001b[1;32m    101\u001b[0m \u001b[38;5;28;01mif\u001b[39;00m \u001b[38;5;28misinstance\u001b[39m(img, torch\u001b[38;5;241m.\u001b[39mByteTensor):\n\u001b[0;32m--> 102\u001b[0m     \u001b[38;5;28;01mreturn\u001b[39;00m \u001b[43mimg\u001b[49m\u001b[38;5;241;43m.\u001b[39;49m\u001b[43mfloat\u001b[49m\u001b[43m(\u001b[49m\u001b[43m)\u001b[49m\u001b[38;5;241;43m.\u001b[39;49m\u001b[43mdiv\u001b[49m\u001b[43m(\u001b[49m\u001b[38;5;241;43m255\u001b[39;49m\u001b[43m)\u001b[49m\n\u001b[1;32m    103\u001b[0m \u001b[38;5;28;01melse\u001b[39;00m:\n\u001b[1;32m    104\u001b[0m     \u001b[38;5;28;01mreturn\u001b[39;00m img\n",
      "\u001b[0;31mKeyboardInterrupt\u001b[0m: "
     ]
    }
   ],
   "source": [
    "for epoch in range(1, 51):\n",
    "    train(epoch)\n",
    "    test()"
   ]
  },
  {
   "cell_type": "markdown",
   "metadata": {},
   "source": [
    "## Visual verification"
   ]
  },
  {
   "cell_type": "code",
   "execution_count": 131,
   "metadata": {},
   "outputs": [],
   "source": [
    "import matplotlib.pyplot as plt"
   ]
  },
  {
   "cell_type": "code",
   "execution_count": 132,
   "metadata": {},
   "outputs": [
    {
     "data": {
      "image/png": "[encoded data removed]",
      "text/plain": [
       "<Figure size 1080x216 with 30 Axes>"
      ]
     },
     "metadata": {
      "needs_background": "light"
     },
     "output_type": "display_data"
    }
   ],
   "source": [
    "_, ax = plt.subplots(nrows=3,ncols=10,figsize=(15,3))\n",
    "\n",
    "data, labels = next(iter(train_loader))\n",
    "data, labels = data.cuda(), labels.cuda()\n",
    "# get sample embedding from the VAE\n",
    "with torch.no_grad():\n",
    "    mu, log_var = vae.encoder(data.view(-1, 784))\n",
    "    z = mu#vae.sampling(mu, log_var)\n",
    "    z_tilde = obfuscator(z)\n",
    "    rec = adv_model(z_tilde)\n",
    "    preds = pred_model(z_tilde).argmax(dim=1)\n",
    "\n",
    "for i in range(10):\n",
    "    ax[0][i].imshow(data[i][0].detach().cpu())\n",
    "    ax[0][i].axis(\"off\")\n",
    "    ax[1][i].imshow(rec[i][0].detach().cpu())\n",
    "    ax[1][i].axis(\"off\")\n",
    "    ax[2][i].text(0.2, 0.8, str(preds[i].item()), horizontalalignment='center', verticalalignment='center')#, transform=ax1.transAxes)\n",
    "    ax[2][i].axis(\"off\")"
   ]
  },
  {
   "cell_type": "markdown",
   "metadata": {},
   "source": [
    "# Inference Privacy\n",
    "## Freeze the privacy parameter $\\Delta_{LS}^{p}$ and the required radius $s$\n",
    "## Get the embedding of the target sample\n",
    "## Use it as a center\n",
    "## Find the best possible radius"
   ]
  },
  {
   "cell_type": "code",
   "execution_count": 133,
   "metadata": {},
   "outputs": [],
   "source": [
    "data, labels = next(iter(train_loader))\n",
    "data, labels = data.cuda(), labels.cuda()\n",
    "# get sample embedding from the VAE\n",
    "with torch.no_grad():\n",
    "    mu, log_var = vae.encoder(data.view(-1, 784))\n",
    "    z = mu#vae.sampling(mu, log_var)\n"
   ]
  },
  {
   "cell_type": "code",
   "execution_count": 134,
   "metadata": {},
   "outputs": [
    {
     "data": {
      "text/plain": [
       "tensor(-0.5102, device='cuda:0', grad_fn=<MinBackward1>)"
      ]
     },
     "execution_count": 134,
     "metadata": {},
     "output_type": "execute_result"
    }
   ],
   "source": [
    "obfuscator.cuda()(z).min()"
   ]
  },
  {
   "cell_type": "code",
   "execution_count": 146,
   "metadata": {},
   "outputs": [],
   "source": [
    "epsilon = 5\n",
    "delta = 0.1\n",
    "\n",
    "center = z#torch.rand(10)\n",
    "radius = 1.0\n",
    "simple_domain = Hyperbox.build_linf_ball(center, radius)\n",
    "\n",
    "# For now we are using center of 0 and l_inf norm of size 1 around the center to define the output space\n",
    "output_domain = 'l1Ball1'\n",
    "\n",
    "# TODO: Replace it with a trained NN\n",
    "#network_simple = ReLUNet([8, 7, 5, 5])\n",
    "network_simple = obfuscator.cpu()"
   ]
  },
  {
   "cell_type": "code",
   "execution_count": 147,
   "metadata": {
    "tags": []
   },
   "outputs": [
    {
     "ename": "RuntimeError",
     "evalue": "mat1 and mat2 shapes cannot be multiplied (1x1600 and 8x10)",
     "output_type": "error",
     "traceback": [
      "\u001b[0;31m---------------------------------------------------------------------------\u001b[0m",
      "\u001b[0;31mRuntimeError\u001b[0m                              Traceback (most recent call last)",
      "Input \u001b[0;32mIn [147]\u001b[0m, in \u001b[0;36m<cell line: 2>\u001b[0;34m()\u001b[0m\n\u001b[1;32m      1\u001b[0m cross_problem \u001b[38;5;241m=\u001b[39m LipMIP(network_simple, simple_domain, \u001b[38;5;124m'\u001b[39m\u001b[38;5;124ml1Ball1\u001b[39m\u001b[38;5;124m'\u001b[39m, num_threads\u001b[38;5;241m=\u001b[39m\u001b[38;5;241m8\u001b[39m, verbose\u001b[38;5;241m=\u001b[39m\u001b[38;5;28;01mTrue\u001b[39;00m)\n\u001b[0;32m----> 2\u001b[0m \u001b[43mcross_problem\u001b[49m\u001b[38;5;241;43m.\u001b[39;49m\u001b[43mcompute_max_lipschitz\u001b[49m\u001b[43m(\u001b[49m\u001b[43m)\u001b[49m\n",
      "File \u001b[0;32m~/matlaberp2/posthoc_privacy/lipmip/lipMIP.py:115\u001b[0m, in \u001b[0;36mLipMIP.compute_max_lipschitz\u001b[0;34m(self)\u001b[0m\n\u001b[1;32m    108\u001b[0m \u001b[38;5;28;01mdef\u001b[39;00m \u001b[38;5;21mcompute_max_lipschitz\u001b[39m(\u001b[38;5;28mself\u001b[39m):\n\u001b[1;32m    109\u001b[0m     \u001b[38;5;124m\"\"\" Computes the maximum lipschitz constant with a fixed\u001b[39m\n\u001b[1;32m    110\u001b[0m \u001b[38;5;124m        domain already set.\u001b[39m\n\u001b[1;32m    111\u001b[0m \n\u001b[1;32m    112\u001b[0m \u001b[38;5;124m        Returns the maximum lipschitz constant and the point that\u001b[39m\n\u001b[1;32m    113\u001b[0m \u001b[38;5;124m        attains it\u001b[39m\n\u001b[1;32m    114\u001b[0m \u001b[38;5;124m    \"\"\"\u001b[39m\n\u001b[0;32m--> 115\u001b[0m     squire, timer \u001b[38;5;241m=\u001b[39m \u001b[38;5;28;43mself\u001b[39;49m\u001b[38;5;241;43m.\u001b[39;49m\u001b[43mbuild_gurobi_squire\u001b[49m\u001b[43m(\u001b[49m\u001b[43m)\u001b[49m\n\u001b[1;32m    116\u001b[0m     model \u001b[38;5;241m=\u001b[39m squire\u001b[38;5;241m.\u001b[39mmodel\n\u001b[1;32m    118\u001b[0m     \u001b[38;5;28;01mif\u001b[39;00m \u001b[38;5;28mself\u001b[39m\u001b[38;5;241m.\u001b[39mtimeout \u001b[38;5;129;01mis\u001b[39;00m \u001b[38;5;129;01mnot\u001b[39;00m \u001b[38;5;28;01mNone\u001b[39;00m:\n",
      "File \u001b[0;32m~/matlaberp2/posthoc_privacy/lipmip/lipMIP.py:99\u001b[0m, in \u001b[0;36mLipMIP.build_gurobi_squire\u001b[0;34m(self)\u001b[0m\n\u001b[1;32m     97\u001b[0m \u001b[38;5;28;01mif\u001b[39;00m \u001b[38;5;129;01mnot\u001b[39;00m \u001b[38;5;28misinstance\u001b[39m(\u001b[38;5;28mself\u001b[39m\u001b[38;5;241m.\u001b[39mpreact, HBoxIA):\n\u001b[1;32m     98\u001b[0m     pre_bounds \u001b[38;5;241m=\u001b[39m HBoxIA(\u001b[38;5;28mself\u001b[39m\u001b[38;5;241m.\u001b[39mnetwork, \u001b[38;5;28mself\u001b[39m\u001b[38;5;241m.\u001b[39mdomain, \u001b[38;5;28mself\u001b[39m\u001b[38;5;241m.\u001b[39mc_vector)\n\u001b[0;32m---> 99\u001b[0m     \u001b[43mpre_bounds\u001b[49m\u001b[38;5;241;43m.\u001b[39;49m\u001b[43mcompute_forward\u001b[49m\u001b[43m(\u001b[49m\u001b[43mtechnique\u001b[49m\u001b[38;5;241;43m=\u001b[39;49m\u001b[38;5;28;43mself\u001b[39;49m\u001b[38;5;241;43m.\u001b[39;49m\u001b[43mpreact\u001b[49m\u001b[43m)\u001b[49m\n\u001b[1;32m    100\u001b[0m     pre_bounds\u001b[38;5;241m.\u001b[39mcompute_backward(technique\u001b[38;5;241m=\u001b[39m\u001b[38;5;28mself\u001b[39m\u001b[38;5;241m.\u001b[39mpreact)\n\u001b[1;32m    101\u001b[0m \u001b[38;5;28;01melse\u001b[39;00m:\n",
      "File \u001b[0;32m~/matlaberp2/posthoc_privacy/lipmip/interval_analysis.py:80\u001b[0m, in \u001b[0;36mHBoxIA.compute_forward\u001b[0;34m(self, technique)\u001b[0m\n\u001b[1;32m     77\u001b[0m \u001b[38;5;28;01massert\u001b[39;00m technique \u001b[38;5;129;01min\u001b[39;00m \u001b[38;5;28mself\u001b[39m\u001b[38;5;241m.\u001b[39mVALID_TECHNIQUES\n\u001b[1;32m     79\u001b[0m \u001b[38;5;28;01mif\u001b[39;00m technique \u001b[38;5;241m==\u001b[39m \u001b[38;5;124m'\u001b[39m\u001b[38;5;124mnaive_ia\u001b[39m\u001b[38;5;124m'\u001b[39m:\n\u001b[0;32m---> 80\u001b[0m \tlinear_outs, final_output \u001b[38;5;241m=\u001b[39m \u001b[38;5;28;43mself\u001b[39;49m\u001b[38;5;241;43m.\u001b[39;49m\u001b[43mforward_nia\u001b[49m\u001b[43m(\u001b[49m\u001b[38;5;28;43mself\u001b[39;49m\u001b[38;5;241;43m.\u001b[39;49m\u001b[43minput_domain\u001b[49m\u001b[43m,\u001b[49m\n\u001b[1;32m     81\u001b[0m \u001b[43m\t\t\t\t\t\t\t\t\t\t\t\t \u001b[49m\u001b[38;5;28;43mself\u001b[39;49m\u001b[38;5;241;43m.\u001b[39;49m\u001b[43mnetwork\u001b[49m\u001b[43m)\u001b[49m\n\u001b[1;32m     82\u001b[0m \t\u001b[38;5;28mself\u001b[39m\u001b[38;5;241m.\u001b[39mforward_boxes \u001b[38;5;241m=\u001b[39m {i: linear_outs[i] \n\u001b[1;32m     83\u001b[0m \t\t\t\t\t\t  \u001b[38;5;28;01mfor\u001b[39;00m i \u001b[38;5;129;01min\u001b[39;00m \u001b[38;5;28mrange\u001b[39m(\u001b[38;5;28mlen\u001b[39m(linear_outs))}\n\u001b[1;32m     84\u001b[0m \t\u001b[38;5;28mself\u001b[39m\u001b[38;5;241m.\u001b[39mforward_switches \u001b[38;5;241m=\u001b[39m {k: BooleanHyperbox\u001b[38;5;241m.\u001b[39mfrom_hyperbox(v)\n\u001b[1;32m     85\u001b[0m \t\t\t\t\t\t\t \u001b[38;5;28;01mfor\u001b[39;00m k,v \u001b[38;5;129;01min\u001b[39;00m \u001b[38;5;28mself\u001b[39m\u001b[38;5;241m.\u001b[39mforward_boxes\u001b[38;5;241m.\u001b[39mitems()}\n",
      "File \u001b[0;32m~/matlaberp2/posthoc_privacy/lipmip/interval_analysis.py:310\u001b[0m, in \u001b[0;36mHBoxIA.forward_nia\u001b[0;34m(cls, input_hbox, network)\u001b[0m\n\u001b[1;32m    308\u001b[0m \u001b[38;5;28;01mfor\u001b[39;00m i \u001b[38;5;129;01min\u001b[39;00m \u001b[38;5;28mrange\u001b[39m(network\u001b[38;5;241m.\u001b[39mnum_relus):\n\u001b[1;32m    309\u001b[0m \thidden_unit \u001b[38;5;241m=\u001b[39m network\u001b[38;5;241m.\u001b[39mget_ith_hidden_unit(i)\n\u001b[0;32m--> 310\u001b[0m \tlinear_out, relu_out \u001b[38;5;241m=\u001b[39m \u001b[38;5;28;43mcls\u001b[39;49m\u001b[38;5;241;43m.\u001b[39;49m\u001b[43m_forward_nia_layer\u001b[49m\u001b[43m(\u001b[49m\u001b[43mrelu_out\u001b[49m\u001b[43m,\u001b[49m\u001b[43m \u001b[49m\u001b[43mhidden_unit\u001b[49m\u001b[43m)\u001b[49m\n\u001b[1;32m    311\u001b[0m \tlinear_outs\u001b[38;5;241m.\u001b[39mappend(linear_out)\n\u001b[1;32m    314\u001b[0m final_output \u001b[38;5;241m=\u001b[39m \u001b[38;5;28mcls\u001b[39m\u001b[38;5;241m.\u001b[39m_forward_nia_layer(relu_out, (network\u001b[38;5;241m.\u001b[39mfcs[\u001b[38;5;241m-\u001b[39m\u001b[38;5;241m1\u001b[39m],))[\u001b[38;5;241m0\u001b[39m]\n",
      "File \u001b[0;32m~/matlaberp2/posthoc_privacy/lipmip/interval_analysis.py:331\u001b[0m, in \u001b[0;36mHBoxIA._forward_nia_layer\u001b[0;34m(cls, input_hbox, hidden_unit)\u001b[0m\n\u001b[1;32m    317\u001b[0m \u001b[38;5;129m@classmethod\u001b[39m \n\u001b[1;32m    318\u001b[0m \u001b[38;5;28;01mdef\u001b[39;00m \u001b[38;5;21m_forward_nia_layer\u001b[39m(\u001b[38;5;28mcls\u001b[39m, input_hbox, hidden_unit):\n\u001b[1;32m    319\u001b[0m \t\u001b[38;5;124m\"\"\" Takes in a hyperbox and a hidden_unit and outputs two new \u001b[39m\n\u001b[1;32m    320\u001b[0m \u001b[38;5;124m\t\thyperboxes, representing pushing the object through the hyperbox\u001b[39m\n\u001b[1;32m    321\u001b[0m \u001b[38;5;124m\tARGS:\u001b[39m\n\u001b[0;32m   (...)\u001b[0m\n\u001b[1;32m    329\u001b[0m \u001b[38;5;124m\t\tReLU(Linear(input_hbox)) is a subset of relu_out\u001b[39m\n\u001b[1;32m    330\u001b[0m \u001b[38;5;124m\t\"\"\"\u001b[39m\t\n\u001b[0;32m--> 331\u001b[0m \tlinear_out \u001b[38;5;241m=\u001b[39m \u001b[43minput_hbox\u001b[49m\u001b[38;5;241;43m.\u001b[39;49m\u001b[43mmap_linear\u001b[49m\u001b[43m(\u001b[49m\u001b[43mhidden_unit\u001b[49m\u001b[43m[\u001b[49m\u001b[38;5;241;43m0\u001b[39;49m\u001b[43m]\u001b[49m\u001b[43m)\u001b[49m\n\u001b[1;32m    332\u001b[0m \trelu_out \u001b[38;5;241m=\u001b[39m linear_out\u001b[38;5;241m.\u001b[39mmap_relu()\n\u001b[1;32m    333\u001b[0m \t\u001b[38;5;28;01mreturn\u001b[39;00m (linear_out, relu_out)\n",
      "File \u001b[0;32m~/matlaberp2/posthoc_privacy/lipmip/hyperbox.py:200\u001b[0m, in \u001b[0;36mHyperbox.map_linear\u001b[0;34m(self, linear, forward)\u001b[0m\n\u001b[1;32m    197\u001b[0m radii \u001b[38;5;241m=\u001b[39m torch\u001b[38;5;241m.\u001b[39mtensor(radii, dtype\u001b[38;5;241m=\u001b[39mdtype)\n\u001b[1;32m    198\u001b[0m \u001b[38;5;28;01mif\u001b[39;00m forward:\n\u001b[0;32m--> 200\u001b[0m     new_midpoint \u001b[38;5;241m=\u001b[39m utils\u001b[38;5;241m.\u001b[39mas_numpy(\u001b[43mlinear\u001b[49m\u001b[43m(\u001b[49m\u001b[43mmidpoint\u001b[49m\u001b[43m)\u001b[49m)\n\u001b[1;32m    201\u001b[0m     new_radii \u001b[38;5;241m=\u001b[39m utils\u001b[38;5;241m.\u001b[39mas_numpy(torch\u001b[38;5;241m.\u001b[39mabs(linear\u001b[38;5;241m.\u001b[39mweight))\u001b[38;5;241m.\u001b[39mdot(radii)\n\u001b[1;32m    202\u001b[0m \u001b[38;5;28;01melse\u001b[39;00m:\n",
      "File \u001b[0;32m~/matlaberp2/posthoc_privacy/.projenv/lib/python3.8/site-packages/torch/nn/modules/module.py:727\u001b[0m, in \u001b[0;36mModule._call_impl\u001b[0;34m(self, *input, **kwargs)\u001b[0m\n\u001b[1;32m    725\u001b[0m     result \u001b[38;5;241m=\u001b[39m \u001b[38;5;28mself\u001b[39m\u001b[38;5;241m.\u001b[39m_slow_forward(\u001b[38;5;241m*\u001b[39m\u001b[38;5;28minput\u001b[39m, \u001b[38;5;241m*\u001b[39m\u001b[38;5;241m*\u001b[39mkwargs)\n\u001b[1;32m    726\u001b[0m \u001b[38;5;28;01melse\u001b[39;00m:\n\u001b[0;32m--> 727\u001b[0m     result \u001b[38;5;241m=\u001b[39m \u001b[38;5;28;43mself\u001b[39;49m\u001b[38;5;241;43m.\u001b[39;49m\u001b[43mforward\u001b[49m\u001b[43m(\u001b[49m\u001b[38;5;241;43m*\u001b[39;49m\u001b[38;5;28;43minput\u001b[39;49m\u001b[43m,\u001b[49m\u001b[43m \u001b[49m\u001b[38;5;241;43m*\u001b[39;49m\u001b[38;5;241;43m*\u001b[39;49m\u001b[43mkwargs\u001b[49m\u001b[43m)\u001b[49m\n\u001b[1;32m    728\u001b[0m \u001b[38;5;28;01mfor\u001b[39;00m hook \u001b[38;5;129;01min\u001b[39;00m itertools\u001b[38;5;241m.\u001b[39mchain(\n\u001b[1;32m    729\u001b[0m         _global_forward_hooks\u001b[38;5;241m.\u001b[39mvalues(),\n\u001b[1;32m    730\u001b[0m         \u001b[38;5;28mself\u001b[39m\u001b[38;5;241m.\u001b[39m_forward_hooks\u001b[38;5;241m.\u001b[39mvalues()):\n\u001b[1;32m    731\u001b[0m     hook_result \u001b[38;5;241m=\u001b[39m hook(\u001b[38;5;28mself\u001b[39m, \u001b[38;5;28minput\u001b[39m, result)\n",
      "File \u001b[0;32m~/matlaberp2/posthoc_privacy/.projenv/lib/python3.8/site-packages/torch/nn/modules/linear.py:93\u001b[0m, in \u001b[0;36mLinear.forward\u001b[0;34m(self, input)\u001b[0m\n\u001b[1;32m     92\u001b[0m \u001b[38;5;28;01mdef\u001b[39;00m \u001b[38;5;21mforward\u001b[39m(\u001b[38;5;28mself\u001b[39m, \u001b[38;5;28minput\u001b[39m: Tensor) \u001b[38;5;241m-\u001b[39m\u001b[38;5;241m>\u001b[39m Tensor:\n\u001b[0;32m---> 93\u001b[0m     \u001b[38;5;28;01mreturn\u001b[39;00m \u001b[43mF\u001b[49m\u001b[38;5;241;43m.\u001b[39;49m\u001b[43mlinear\u001b[49m\u001b[43m(\u001b[49m\u001b[38;5;28;43minput\u001b[39;49m\u001b[43m,\u001b[49m\u001b[43m \u001b[49m\u001b[38;5;28;43mself\u001b[39;49m\u001b[38;5;241;43m.\u001b[39;49m\u001b[43mweight\u001b[49m\u001b[43m,\u001b[49m\u001b[43m \u001b[49m\u001b[38;5;28;43mself\u001b[39;49m\u001b[38;5;241;43m.\u001b[39;49m\u001b[43mbias\u001b[49m\u001b[43m)\u001b[49m\n",
      "File \u001b[0;32m~/matlaberp2/posthoc_privacy/.projenv/lib/python3.8/site-packages/torch/nn/functional.py:1692\u001b[0m, in \u001b[0;36mlinear\u001b[0;34m(input, weight, bias)\u001b[0m\n\u001b[1;32m   1690\u001b[0m     ret \u001b[38;5;241m=\u001b[39m torch\u001b[38;5;241m.\u001b[39maddmm(bias, \u001b[38;5;28minput\u001b[39m, weight\u001b[38;5;241m.\u001b[39mt())\n\u001b[1;32m   1691\u001b[0m \u001b[38;5;28;01melse\u001b[39;00m:\n\u001b[0;32m-> 1692\u001b[0m     output \u001b[38;5;241m=\u001b[39m \u001b[38;5;28;43minput\u001b[39;49m\u001b[38;5;241;43m.\u001b[39;49m\u001b[43mmatmul\u001b[49m\u001b[43m(\u001b[49m\u001b[43mweight\u001b[49m\u001b[38;5;241;43m.\u001b[39;49m\u001b[43mt\u001b[49m\u001b[43m(\u001b[49m\u001b[43m)\u001b[49m\u001b[43m)\u001b[49m\n\u001b[1;32m   1693\u001b[0m     \u001b[38;5;28;01mif\u001b[39;00m bias \u001b[38;5;129;01mis\u001b[39;00m \u001b[38;5;129;01mnot\u001b[39;00m \u001b[38;5;28;01mNone\u001b[39;00m:\n\u001b[1;32m   1694\u001b[0m         output \u001b[38;5;241m+\u001b[39m\u001b[38;5;241m=\u001b[39m bias\n",
      "\u001b[0;31mRuntimeError\u001b[0m: mat1 and mat2 shapes cannot be multiplied (1x1600 and 8x10)"
     ]
    }
   ],
   "source": [
    "cross_problem = LipMIP(network_simple, simple_domain, 'l1Ball1', num_threads=8, verbose=True)\n",
    "cross_problem.compute_max_lipschitz()"
   ]
  },
  {
   "cell_type": "code",
   "execution_count": 145,
   "metadata": {},
   "outputs": [
    {
     "data": {
      "text/plain": [
       "0.4097048069197993"
      ]
     },
     "execution_count": 145,
     "metadata": {},
     "output_type": "execute_result"
    }
   ],
   "source": [
    "cross_problem.result.value"
   ]
  },
  {
   "cell_type": "code",
   "execution_count": null,
   "metadata": {},
   "outputs": [],
   "source": []
  }
 ],
 "metadata": {
  "kernelspec": {
   "display_name": "Python 3",
   "language": "python",
   "name": "python3"
  },
  "language_info": {
   "codemirror_mode": {
    "name": "ipython",
    "version": 3
   },
   "file_extension": ".py",
   "mimetype": "text/x-python",
   "name": "python",
   "nbconvert_exporter": "python",
   "pygments_lexer": "ipython3",
   "version": "3.8.10"
  }
 },
 "nbformat": 4,
 "nbformat_minor": 4
}
