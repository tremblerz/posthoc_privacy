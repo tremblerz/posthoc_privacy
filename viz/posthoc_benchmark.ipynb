{
 "cells": [
  {
   "cell_type": "code",
   "execution_count": 2,
   "metadata": {},
   "outputs": [
    {
     "name": "stderr",
     "output_type": "stream",
     "text": [
      "/u/abhi24/matlaberp2/posthoc_privacy/.projenv/lib/python3.8/site-packages/tqdm/auto.py:22: TqdmWarning: IProgress not found. Please update jupyter and ipywidgets. See https://ipywidgets.readthedocs.io/en/stable/user_install.html\n",
      "  from .autonotebook import tqdm as notebook_tqdm\n"
     ]
    }
   ],
   "source": [
    "import sys \n",
    "sys.path.append(\"../\")\n",
    "import torch\n",
    "from torch import optim, save\n",
    "from torchvision import datasets, transforms\n",
    "from torchvision.utils import save_image\n",
    "#from pprint import pprint \n",
    "import time\n",
    "\n",
    "import lipmip.utilities as utils\n",
    "from lipmip.relu_nets import ReLUNet\n",
    "#import lipmip.neural_nets.data_loaders as data_loaders\n",
    "#import lipmip.neural_nets.train as train \n",
    "from lipmip.hyperbox import Hyperbox \n",
    "import lipmip.interval_analysis as ia \n",
    "from lipmip.lipMIP import LipMIP"
   ]
  },
  {
   "cell_type": "code",
   "execution_count": 3,
   "metadata": {},
   "outputs": [],
   "source": [
    "import numpy as np"
   ]
  },
  {
   "cell_type": "code",
   "execution_count": 4,
   "metadata": {},
   "outputs": [],
   "source": [
    "from adversarial_training import ARL"
   ]
  },
  {
   "cell_type": "code",
   "execution_count": 25,
   "metadata": {
    "collapsed": true,
    "jupyter": {
     "outputs_hidden": true
    },
    "tags": []
   },
   "outputs": [
    {
     "name": "stdout",
     "output_type": "stream",
     "text": [
      "[1, 5, 5]\n",
      "0.004633853435516358\n",
      "[2, 5, 5]\n",
      "0.008526501655578613\n",
      "[3, 5, 5]\n",
      "0.015862362384796144\n",
      "[4, 5, 5]\n",
      "0.012267005443572999\n",
      "[5, 5, 5]\n",
      "0.04243224382400513\n",
      "[6, 5, 5]\n",
      "0.05048701286315918\n",
      "[7, 5, 5]\n",
      "0.050496821403503415\n",
      "[8, 5, 5]\n",
      "0.11766348361968994\n",
      "[9, 5, 5]\n",
      "0.11029816389083863\n",
      "[10, 5, 5]\n",
      "0.1606643795967102\n",
      "[11, 5, 5]\n",
      "0.18180044174194335\n",
      "[12, 5, 5]\n",
      "0.19703744411468505\n",
      "[13, 5, 5]\n",
      "0.6192425394058227\n",
      "[14, 5, 5]\n",
      "0.7312061071395874\n",
      "[15, 5, 5]\n",
      "0.8507655215263367\n",
      "[16, 5, 5]\n",
      "1.031593279838562\n",
      "[17, 5, 5]\n",
      "1.2486575627326966\n",
      "[18, 5, 5]\n",
      "1.3863985633850098\n",
      "[19, 5, 5]\n",
      "2.19485604763031\n",
      "[20, 5, 5]\n",
      "3.7759729051589965\n",
      "[21, 5, 5]\n",
      "3.4019100427627564\n",
      "[22, 5, 5]\n",
      "4.199937126636505\n"
     ]
    }
   ],
   "source": [
    "radius = 0.3\n",
    "dims = 8\n",
    "num_dims = 22\n",
    "num_samples = 100\n",
    "lst = []\n",
    "for num in range(1, num_dims+1):\n",
    "    arch = [num, 5, 5]\n",
    "    print(arch)\n",
    "    net = ReLUNet(arch)\n",
    "    times = []\n",
    "    for _ in range(num_samples):\n",
    "        center = torch.rand(num)\n",
    "        simple_domain = Hyperbox.build_linf_ball(center, radius)\n",
    "        cross_problem = LipMIP(net, simple_domain, 'l1Ball1', num_threads=8, verbose=True)\n",
    "        start_time = time.time()\n",
    "        cross_problem.compute_max_lipschitz()\n",
    "        end_time = time.time()\n",
    "        times.append(end_time - start_time)\n",
    "    lst.append(np.array(times))\n",
    "    print(np.array(times).mean())"
   ]
  },
  {
   "cell_type": "code",
   "execution_count": 19,
   "metadata": {},
   "outputs": [],
   "source": [
    "import matplotlib.pyplot as plt\n",
    "import seaborn as sns"
   ]
  },
  {
   "cell_type": "code",
   "execution_count": 26,
   "metadata": {},
   "outputs": [],
   "source": [
    "means = np.array([item.mean() for item in lst])\n",
    "std = np.array([item.std() for item in lst])"
   ]
  },
  {
   "cell_type": "code",
   "execution_count": 29,
   "metadata": {},
   "outputs": [
    {
     "data": {
      "image/png": "[encoded data removed]",
      "text/plain": [
       "<Figure size 432x288 with 1 Axes>"
      ]
     },
     "metadata": {},
     "output_type": "display_data"
    }
   ],
   "source": [
    "clrs = sns.color_palette(\"husl\", 2)\n",
    "x_ = range(means.shape[0])\n",
    "with sns.axes_style(\"darkgrid\"):\n",
    "    plt.plot(means, c=clrs[1])\n",
    "    plt.xticks([0, 5, 10, 15, 20])\n",
    "    plt.ylabel(\"Runtime (s)\")\n",
    "    plt.xlabel(\"Input Dimensions\")\n",
    "    plt.fill_between(x_, means - std, means + std, alpha=0.3, facecolor=clrs[1])\n",
    "plt.savefig('dims.pdf', dpi=300)"
   ]
  },
  {
   "cell_type": "code",
   "execution_count": 50,
   "metadata": {
    "collapsed": true,
    "jupyter": {
     "outputs_hidden": true
    },
    "tags": []
   },
   "outputs": [
    {
     "name": "stdout",
     "output_type": "stream",
     "text": [
      "0.006825895309448242\n",
      "0.02240701675415039\n",
      "0.0351175856590271\n",
      "0.039764270782470704\n",
      "0.040327980518341064\n",
      "0.040741381645202634\n",
      "0.04091776609420776\n",
      "0.04142865896224976\n",
      "0.04101475715637207\n",
      "0.03963033676147461\n",
      "0.041194100379943845\n",
      "0.04230293989181519\n",
      "0.040168640613555906\n",
      "0.0404624080657959\n",
      "0.04130388021469116\n",
      "0.0408461594581604\n",
      "0.04168512344360351\n",
      "0.04074435472488403\n",
      "0.041204090118408206\n",
      "0.041462559700012204\n",
      "0.00935112476348877\n",
      "0.050530409812927245\n",
      "0.06773635625839233\n",
      "0.07032671928405762\n",
      "0.0689160943031311\n",
      "0.06950725078582763\n",
      "0.07250585794448852\n",
      "0.06965887069702148\n",
      "0.07171847343444825\n",
      "0.0695603370666504\n",
      "0.07084428310394288\n",
      "0.07185499668121338\n",
      "0.07148654937744141\n",
      "0.07146648406982421\n",
      "0.06975990056991577\n",
      "0.06947591543197632\n",
      "0.07187170267105103\n",
      "0.07091974020004273\n",
      "0.07191925764083862\n",
      "0.071645348072052\n",
      "0.014420685768127441\n",
      "0.08033989906311036\n",
      "0.09645007371902466\n",
      "0.10163394451141357\n",
      "0.10651392221450806\n",
      "0.10249112367630005\n",
      "0.10068644523620605\n",
      "0.10461873531341553\n",
      "0.10758190631866454\n",
      "0.09934956550598145\n",
      "0.10100521087646484\n",
      "0.10367032527923584\n",
      "0.10373908281326294\n",
      "0.10208935976028442\n",
      "0.10042014598846435\n",
      "0.10315913677215577\n",
      "0.10322327375411987\n",
      "0.10608921766281128\n",
      "0.10888916015625\n",
      "0.10777259349822998\n"
     ]
    }
   ],
   "source": [
    "radii = np.linspace(0.01, 10, 20)\n",
    "dims = 5\n",
    "num_samples = 100\n",
    "res_dims = []\n",
    "for dims in range(4, 7):\n",
    "    res = []\n",
    "    for radius in radii:\n",
    "        arch = [dims] * 3\n",
    "        times = []\n",
    "        for _ in range(num_samples):\n",
    "            center = torch.rand(dims)\n",
    "            net = ReLUNet(arch)\n",
    "            simple_domain = Hyperbox.build_linf_ball(center, radius)\n",
    "            cross_problem = LipMIP(net, simple_domain, 'l1Ball1', num_threads=8, verbose=True)\n",
    "            start_time = time.time()\n",
    "            cross_problem.compute_max_lipschitz()\n",
    "            end_time = time.time()\n",
    "            times.append(end_time - start_time)\n",
    "        res.append(np.array(times))\n",
    "        print(np.array(times).mean())\n",
    "    res_dims.append(res)"
   ]
  },
  {
   "cell_type": "code",
   "execution_count": 51,
   "metadata": {},
   "outputs": [],
   "source": [
    "final_res = []\n",
    "for r in res_dims:\n",
    "    res_means_ = np.array([item.mean() for item in r])\n",
    "    res_std_ = np.array([item.std() for item in r])\n",
    "    final_res.append((res_means_, res_std_))"
   ]
  },
  {
   "cell_type": "code",
   "execution_count": 59,
   "metadata": {},
   "outputs": [
    {
     "data": {
      "image/png": "[encoded data removed]",
      "text/plain": [
       "<Figure size 432x288 with 1 Axes>"
      ]
     },
     "metadata": {},
     "output_type": "display_data"
    }
   ],
   "source": [
    "clrs = sns.color_palette(\"husl\", 4)\n",
    "resx_ = range(final_res[0][0].shape[0])\n",
    "with sns.axes_style(\"darkgrid\"):\n",
    "    plt.xticks([0, 5, 10, 15, 19], ['0', '2.5', '5', '7.5', '10'])\n",
    "    plt.ylabel(\"Runtime (s)\")\n",
    "    plt.xlabel(\"Neighborhood radius\")\n",
    "    for i, result in enumerate(final_res):\n",
    "        res_means_ = result[0]\n",
    "        res_std_ = result[1]\n",
    "        plt.plot(res_means_, c=clrs[i])\n",
    "        plt.fill_between(resx_, res_means_ - res_std_, res_means_ + res_std_, alpha=0.3, facecolor=clrs[i])\n",
    "plt.savefig('radius.pdf', dpi=300)"
   ]
  },
  {
   "cell_type": "code",
   "execution_count": 73,
   "metadata": {
    "collapsed": true,
    "jupyter": {
     "outputs_hidden": true
    },
    "tags": []
   },
   "outputs": [
    {
     "name": "stdout",
     "output_type": "stream",
     "text": [
      "[5, 5, 5]\n",
      "0.015384693145751954\n",
      "[5, 5, 5, 5]\n",
      "0.021846051216125487\n",
      "[5, 5, 5, 5, 5]\n",
      "0.02119138717651367\n",
      "[5, 5, 5, 5, 5, 5]\n",
      "0.026150074005126953\n",
      "[5, 5, 5, 5, 5, 5, 5]\n",
      "0.027078933715820312\n",
      "[5, 5, 5, 5, 5, 5, 5, 5]\n",
      "0.027993092536926268\n",
      "[5, 5, 5, 5, 5, 5, 5, 5, 5]\n",
      "INFEASIBLE\n",
      "0.028469299783512036\n",
      "[5, 5, 5]\n",
      "0.023023028373718262\n",
      "[5, 5, 5, 5]\n",
      "0.03413193702697754\n",
      "[5, 5, 5, 5, 5]\n",
      "0.03725023746490479\n",
      "[5, 5, 5, 5, 5, 5]\n",
      "0.042161235809326174\n",
      "[5, 5, 5, 5, 5, 5, 5]\n",
      "0.04439517021179199\n",
      "[5, 5, 5, 5, 5, 5, 5, 5]\n",
      "0.04892660617828369\n",
      "[5, 5, 5, 5, 5, 5, 5, 5, 5]\n",
      "0.053688759803771975\n",
      "[5, 5, 5]\n",
      "0.0334016752243042\n",
      "[5, 5, 5, 5]\n",
      "0.05166579246520996\n",
      "[5, 5, 5, 5, 5]\n",
      "0.06986787319183349\n",
      "[5, 5, 5, 5, 5, 5]\n",
      "0.06479093551635742\n",
      "[5, 5, 5, 5, 5, 5, 5]\n",
      "0.06865350246429443\n",
      "[5, 5, 5, 5, 5, 5, 5, 5]\n",
      "0.05699504852294922\n",
      "[5, 5, 5, 5, 5, 5, 5, 5, 5]\n",
      "0.06244211196899414\n",
      "[5, 5, 5]\n",
      "0.05009165763854981\n",
      "[5, 5, 5, 5]\n",
      "0.07171617031097412\n",
      "[5, 5, 5, 5, 5]\n",
      "0.10257880687713623\n",
      "[5, 5, 5, 5, 5, 5]\n",
      "0.1258182954788208\n",
      "[5, 5, 5, 5, 5, 5, 5]\n",
      "0.13266080856323242\n",
      "[5, 5, 5, 5, 5, 5, 5, 5]\n",
      "0.1429485034942627\n",
      "[5, 5, 5, 5, 5, 5, 5, 5, 5]\n",
      "0.14675727367401123\n"
     ]
    }
   ],
   "source": [
    "radii = [0.1, 0.2, 0.3, 0.5]\n",
    "num_samples = 50\n",
    "res_radii = []\n",
    "for radius in radii:\n",
    "    res_layer = []\n",
    "    for l in range(3, 10):\n",
    "        arch = [5] * l\n",
    "        times = []\n",
    "        print(arch)\n",
    "        for _ in range(num_samples):\n",
    "            center = torch.rand(5)\n",
    "            net = ReLUNet(arch)\n",
    "            simple_domain = Hyperbox.build_linf_ball(center, radius)\n",
    "            cross_problem = LipMIP(net, simple_domain, 'l1Ball1', num_threads=8, verbose=True)\n",
    "            start_time = time.time()\n",
    "            try:\n",
    "                cross_problem.compute_max_lipschitz()\n",
    "            except:\n",
    "                continue\n",
    "            end_time = time.time()\n",
    "            times.append(end_time - start_time)\n",
    "        res_layer.append(np.array(times))\n",
    "        print(np.array(times).mean())\n",
    "    res_radii.append(res_layer)"
   ]
  },
  {
   "cell_type": "code",
   "execution_count": 76,
   "metadata": {},
   "outputs": [],
   "source": [
    "final_res_radii = []\n",
    "for r in res_radii:\n",
    "    res_means_ = np.array([item.mean() for item in r])\n",
    "    res_std_ = np.array([item.std() for item in r])\n",
    "    final_res_radii.append((res_means_, res_std_))"
   ]
  },
  {
   "cell_type": "code",
   "execution_count": 77,
   "metadata": {},
   "outputs": [
    {
     "ename": "ValueError",
     "evalue": "operands could not be broadcast together with shapes (20,) (7,) ",
     "output_type": "error",
     "traceback": [
      "\u001b[0;31m---------------------------------------------------------------------------\u001b[0m",
      "\u001b[0;31mValueError\u001b[0m                                Traceback (most recent call last)",
      "Input \u001b[0;32mIn [77]\u001b[0m, in \u001b[0;36m<cell line: 3>\u001b[0;34m()\u001b[0m\n\u001b[1;32m      9\u001b[0m         res_std_ \u001b[38;5;241m=\u001b[39m result[\u001b[38;5;241m1\u001b[39m]\n\u001b[1;32m     10\u001b[0m         plt\u001b[38;5;241m.\u001b[39mplot(res_means_, c\u001b[38;5;241m=\u001b[39mclrs[i], label\u001b[38;5;241m=\u001b[39m\u001b[38;5;28mstr\u001b[39m(radii[i]))\n\u001b[0;32m---> 11\u001b[0m         \u001b[43mplt\u001b[49m\u001b[38;5;241;43m.\u001b[39;49m\u001b[43mfill_between\u001b[49m\u001b[43m(\u001b[49m\u001b[43mresx_\u001b[49m\u001b[43m,\u001b[49m\u001b[43m \u001b[49m\u001b[43mres_means_\u001b[49m\u001b[43m \u001b[49m\u001b[38;5;241;43m-\u001b[39;49m\u001b[43m \u001b[49m\u001b[43mres_std_\u001b[49m\u001b[43m,\u001b[49m\u001b[43m \u001b[49m\u001b[43mres_means_\u001b[49m\u001b[43m \u001b[49m\u001b[38;5;241;43m+\u001b[39;49m\u001b[43m \u001b[49m\u001b[43mres_std_\u001b[49m\u001b[43m,\u001b[49m\u001b[43m \u001b[49m\u001b[43malpha\u001b[49m\u001b[38;5;241;43m=\u001b[39;49m\u001b[38;5;241;43m0.3\u001b[39;49m\u001b[43m,\u001b[49m\u001b[43m \u001b[49m\u001b[43mfacecolor\u001b[49m\u001b[38;5;241;43m=\u001b[39;49m\u001b[43mclrs\u001b[49m\u001b[43m[\u001b[49m\u001b[43mi\u001b[49m\u001b[43m]\u001b[49m\u001b[43m)\u001b[49m\n\u001b[1;32m     12\u001b[0m     plt\u001b[38;5;241m.\u001b[39mlegend()\n\u001b[1;32m     13\u001b[0m plt\u001b[38;5;241m.\u001b[39msavefig(\u001b[38;5;124m'\u001b[39m\u001b[38;5;124mlayers.pdf\u001b[39m\u001b[38;5;124m'\u001b[39m, dpi\u001b[38;5;241m=\u001b[39m\u001b[38;5;241m300\u001b[39m)\n",
      "File \u001b[0;32m~/matlaberp2/posthoc_privacy/.projenv/lib/python3.8/site-packages/matplotlib/pyplot.py:2543\u001b[0m, in \u001b[0;36mfill_between\u001b[0;34m(x, y1, y2, where, interpolate, step, data, **kwargs)\u001b[0m\n\u001b[1;32m   2539\u001b[0m \u001b[38;5;129m@_copy_docstring_and_deprecators\u001b[39m(Axes\u001b[38;5;241m.\u001b[39mfill_between)\n\u001b[1;32m   2540\u001b[0m \u001b[38;5;28;01mdef\u001b[39;00m \u001b[38;5;21mfill_between\u001b[39m(\n\u001b[1;32m   2541\u001b[0m         x, y1, y2\u001b[38;5;241m=\u001b[39m\u001b[38;5;241m0\u001b[39m, where\u001b[38;5;241m=\u001b[39m\u001b[38;5;28;01mNone\u001b[39;00m, interpolate\u001b[38;5;241m=\u001b[39m\u001b[38;5;28;01mFalse\u001b[39;00m, step\u001b[38;5;241m=\u001b[39m\u001b[38;5;28;01mNone\u001b[39;00m, \u001b[38;5;241m*\u001b[39m,\n\u001b[1;32m   2542\u001b[0m         data\u001b[38;5;241m=\u001b[39m\u001b[38;5;28;01mNone\u001b[39;00m, \u001b[38;5;241m*\u001b[39m\u001b[38;5;241m*\u001b[39mkwargs):\n\u001b[0;32m-> 2543\u001b[0m     \u001b[38;5;28;01mreturn\u001b[39;00m \u001b[43mgca\u001b[49m\u001b[43m(\u001b[49m\u001b[43m)\u001b[49m\u001b[38;5;241;43m.\u001b[39;49m\u001b[43mfill_between\u001b[49m\u001b[43m(\u001b[49m\n\u001b[1;32m   2544\u001b[0m \u001b[43m        \u001b[49m\u001b[43mx\u001b[49m\u001b[43m,\u001b[49m\u001b[43m \u001b[49m\u001b[43my1\u001b[49m\u001b[43m,\u001b[49m\u001b[43m \u001b[49m\u001b[43my2\u001b[49m\u001b[38;5;241;43m=\u001b[39;49m\u001b[43my2\u001b[49m\u001b[43m,\u001b[49m\u001b[43m \u001b[49m\u001b[43mwhere\u001b[49m\u001b[38;5;241;43m=\u001b[39;49m\u001b[43mwhere\u001b[49m\u001b[43m,\u001b[49m\u001b[43m \u001b[49m\u001b[43minterpolate\u001b[49m\u001b[38;5;241;43m=\u001b[39;49m\u001b[43minterpolate\u001b[49m\u001b[43m,\u001b[49m\u001b[43m \u001b[49m\u001b[43mstep\u001b[49m\u001b[38;5;241;43m=\u001b[39;49m\u001b[43mstep\u001b[49m\u001b[43m,\u001b[49m\n\u001b[1;32m   2545\u001b[0m \u001b[43m        \u001b[49m\u001b[38;5;241;43m*\u001b[39;49m\u001b[38;5;241;43m*\u001b[39;49m\u001b[43m(\u001b[49m\u001b[43m{\u001b[49m\u001b[38;5;124;43m\"\u001b[39;49m\u001b[38;5;124;43mdata\u001b[39;49m\u001b[38;5;124;43m\"\u001b[39;49m\u001b[43m:\u001b[49m\u001b[43m \u001b[49m\u001b[43mdata\u001b[49m\u001b[43m}\u001b[49m\u001b[43m \u001b[49m\u001b[38;5;28;43;01mif\u001b[39;49;00m\u001b[43m \u001b[49m\u001b[43mdata\u001b[49m\u001b[43m \u001b[49m\u001b[38;5;129;43;01mis\u001b[39;49;00m\u001b[43m \u001b[49m\u001b[38;5;129;43;01mnot\u001b[39;49;00m\u001b[43m \u001b[49m\u001b[38;5;28;43;01mNone\u001b[39;49;00m\u001b[43m \u001b[49m\u001b[38;5;28;43;01melse\u001b[39;49;00m\u001b[43m \u001b[49m\u001b[43m{\u001b[49m\u001b[43m}\u001b[49m\u001b[43m)\u001b[49m\u001b[43m,\u001b[49m\u001b[43m \u001b[49m\u001b[38;5;241;43m*\u001b[39;49m\u001b[38;5;241;43m*\u001b[39;49m\u001b[43mkwargs\u001b[49m\u001b[43m)\u001b[49m\n",
      "File \u001b[0;32m~/matlaberp2/posthoc_privacy/.projenv/lib/python3.8/site-packages/matplotlib/__init__.py:1412\u001b[0m, in \u001b[0;36m_preprocess_data.<locals>.inner\u001b[0;34m(ax, data, *args, **kwargs)\u001b[0m\n\u001b[1;32m   1409\u001b[0m \u001b[38;5;129m@functools\u001b[39m\u001b[38;5;241m.\u001b[39mwraps(func)\n\u001b[1;32m   1410\u001b[0m \u001b[38;5;28;01mdef\u001b[39;00m \u001b[38;5;21minner\u001b[39m(ax, \u001b[38;5;241m*\u001b[39margs, data\u001b[38;5;241m=\u001b[39m\u001b[38;5;28;01mNone\u001b[39;00m, \u001b[38;5;241m*\u001b[39m\u001b[38;5;241m*\u001b[39mkwargs):\n\u001b[1;32m   1411\u001b[0m     \u001b[38;5;28;01mif\u001b[39;00m data \u001b[38;5;129;01mis\u001b[39;00m \u001b[38;5;28;01mNone\u001b[39;00m:\n\u001b[0;32m-> 1412\u001b[0m         \u001b[38;5;28;01mreturn\u001b[39;00m \u001b[43mfunc\u001b[49m\u001b[43m(\u001b[49m\u001b[43max\u001b[49m\u001b[43m,\u001b[49m\u001b[43m \u001b[49m\u001b[38;5;241;43m*\u001b[39;49m\u001b[38;5;28;43mmap\u001b[39;49m\u001b[43m(\u001b[49m\u001b[43msanitize_sequence\u001b[49m\u001b[43m,\u001b[49m\u001b[43m \u001b[49m\u001b[43margs\u001b[49m\u001b[43m)\u001b[49m\u001b[43m,\u001b[49m\u001b[43m \u001b[49m\u001b[38;5;241;43m*\u001b[39;49m\u001b[38;5;241;43m*\u001b[39;49m\u001b[43mkwargs\u001b[49m\u001b[43m)\u001b[49m\n\u001b[1;32m   1414\u001b[0m     bound \u001b[38;5;241m=\u001b[39m new_sig\u001b[38;5;241m.\u001b[39mbind(ax, \u001b[38;5;241m*\u001b[39margs, \u001b[38;5;241m*\u001b[39m\u001b[38;5;241m*\u001b[39mkwargs)\n\u001b[1;32m   1415\u001b[0m     auto_label \u001b[38;5;241m=\u001b[39m (bound\u001b[38;5;241m.\u001b[39marguments\u001b[38;5;241m.\u001b[39mget(label_namer)\n\u001b[1;32m   1416\u001b[0m                   \u001b[38;5;129;01mor\u001b[39;00m bound\u001b[38;5;241m.\u001b[39mkwargs\u001b[38;5;241m.\u001b[39mget(label_namer))\n",
      "File \u001b[0;32m~/matlaberp2/posthoc_privacy/.projenv/lib/python3.8/site-packages/matplotlib/axes/_axes.py:5252\u001b[0m, in \u001b[0;36mAxes.fill_between\u001b[0;34m(self, x, y1, y2, where, interpolate, step, **kwargs)\u001b[0m\n\u001b[1;32m   5250\u001b[0m \u001b[38;5;28;01mdef\u001b[39;00m \u001b[38;5;21mfill_between\u001b[39m(\u001b[38;5;28mself\u001b[39m, x, y1, y2\u001b[38;5;241m=\u001b[39m\u001b[38;5;241m0\u001b[39m, where\u001b[38;5;241m=\u001b[39m\u001b[38;5;28;01mNone\u001b[39;00m, interpolate\u001b[38;5;241m=\u001b[39m\u001b[38;5;28;01mFalse\u001b[39;00m,\n\u001b[1;32m   5251\u001b[0m                  step\u001b[38;5;241m=\u001b[39m\u001b[38;5;28;01mNone\u001b[39;00m, \u001b[38;5;241m*\u001b[39m\u001b[38;5;241m*\u001b[39mkwargs):\n\u001b[0;32m-> 5252\u001b[0m     \u001b[38;5;28;01mreturn\u001b[39;00m \u001b[38;5;28;43mself\u001b[39;49m\u001b[38;5;241;43m.\u001b[39;49m\u001b[43m_fill_between_x_or_y\u001b[49m\u001b[43m(\u001b[49m\n\u001b[1;32m   5253\u001b[0m \u001b[43m        \u001b[49m\u001b[38;5;124;43m\"\u001b[39;49m\u001b[38;5;124;43mx\u001b[39;49m\u001b[38;5;124;43m\"\u001b[39;49m\u001b[43m,\u001b[49m\u001b[43m \u001b[49m\u001b[43mx\u001b[49m\u001b[43m,\u001b[49m\u001b[43m \u001b[49m\u001b[43my1\u001b[49m\u001b[43m,\u001b[49m\u001b[43m \u001b[49m\u001b[43my2\u001b[49m\u001b[43m,\u001b[49m\n\u001b[1;32m   5254\u001b[0m \u001b[43m        \u001b[49m\u001b[43mwhere\u001b[49m\u001b[38;5;241;43m=\u001b[39;49m\u001b[43mwhere\u001b[49m\u001b[43m,\u001b[49m\u001b[43m \u001b[49m\u001b[43minterpolate\u001b[49m\u001b[38;5;241;43m=\u001b[39;49m\u001b[43minterpolate\u001b[49m\u001b[43m,\u001b[49m\u001b[43m \u001b[49m\u001b[43mstep\u001b[49m\u001b[38;5;241;43m=\u001b[39;49m\u001b[43mstep\u001b[49m\u001b[43m,\u001b[49m\u001b[43m \u001b[49m\u001b[38;5;241;43m*\u001b[39;49m\u001b[38;5;241;43m*\u001b[39;49m\u001b[43mkwargs\u001b[49m\u001b[43m)\u001b[49m\n",
      "File \u001b[0;32m~/matlaberp2/posthoc_privacy/.projenv/lib/python3.8/site-packages/matplotlib/axes/_axes.py:5173\u001b[0m, in \u001b[0;36mAxes._fill_between_x_or_y\u001b[0;34m(self, ind_dir, ind, dep1, dep2, where, interpolate, step, **kwargs)\u001b[0m\n\u001b[1;32m   5170\u001b[0m     \u001b[38;5;28;01mif\u001b[39;00m where\u001b[38;5;241m.\u001b[39msize \u001b[38;5;241m!=\u001b[39m ind\u001b[38;5;241m.\u001b[39msize:\n\u001b[1;32m   5171\u001b[0m         \u001b[38;5;28;01mraise\u001b[39;00m \u001b[38;5;167;01mValueError\u001b[39;00m(\u001b[38;5;124mf\u001b[39m\u001b[38;5;124m\"\u001b[39m\u001b[38;5;124mwhere size (\u001b[39m\u001b[38;5;132;01m{where.size}\u001b[39;00m\u001b[38;5;124m) does not match \u001b[39m\u001b[38;5;124m\"\u001b[39m\n\u001b[1;32m   5172\u001b[0m                          \u001b[38;5;124mf\u001b[39m\u001b[38;5;124m\"\u001b[39m\u001b[38;5;132;01m{ind_dir}\u001b[39;00m\u001b[38;5;124m size (\u001b[39m\u001b[38;5;132;01m{ind.size}\u001b[39;00m\u001b[38;5;124m)\u001b[39m\u001b[38;5;124m\"\u001b[39m)\n\u001b[0;32m-> 5173\u001b[0m where \u001b[38;5;241m=\u001b[39m where \u001b[38;5;241m&\u001b[39m \u001b[38;5;241m~\u001b[39m\u001b[43mfunctools\u001b[49m\u001b[38;5;241;43m.\u001b[39;49m\u001b[43mreduce\u001b[49m\u001b[43m(\u001b[49m\n\u001b[1;32m   5174\u001b[0m \u001b[43m    \u001b[49m\u001b[43mnp\u001b[49m\u001b[38;5;241;43m.\u001b[39;49m\u001b[43mlogical_or\u001b[49m\u001b[43m,\u001b[49m\u001b[43m \u001b[49m\u001b[38;5;28;43mmap\u001b[39;49m\u001b[43m(\u001b[49m\u001b[43mnp\u001b[49m\u001b[38;5;241;43m.\u001b[39;49m\u001b[43mma\u001b[49m\u001b[38;5;241;43m.\u001b[39;49m\u001b[43mgetmask\u001b[49m\u001b[43m,\u001b[49m\u001b[43m \u001b[49m\u001b[43m[\u001b[49m\u001b[43mind\u001b[49m\u001b[43m,\u001b[49m\u001b[43m \u001b[49m\u001b[43mdep1\u001b[49m\u001b[43m,\u001b[49m\u001b[43m \u001b[49m\u001b[43mdep2\u001b[49m\u001b[43m]\u001b[49m\u001b[43m)\u001b[49m\u001b[43m)\u001b[49m\n\u001b[1;32m   5176\u001b[0m ind, dep1, dep2 \u001b[38;5;241m=\u001b[39m np\u001b[38;5;241m.\u001b[39mbroadcast_arrays(\n\u001b[1;32m   5177\u001b[0m     np\u001b[38;5;241m.\u001b[39matleast_1d(ind), dep1, dep2, subok\u001b[38;5;241m=\u001b[39m\u001b[38;5;28;01mTrue\u001b[39;00m)\n\u001b[1;32m   5179\u001b[0m polys \u001b[38;5;241m=\u001b[39m []\n",
      "\u001b[0;31mValueError\u001b[0m: operands could not be broadcast together with shapes (20,) (7,) "
     ]
    },
    {
     "data": {
      "image/png": "[encoded data removed]",
      "text/plain": [
       "<Figure size 432x288 with 1 Axes>"
      ]
     },
     "metadata": {},
     "output_type": "display_data"
    }
   ],
   "source": [
    "clrs = sns.color_palette(\"husl\", 4)\n",
    "resx_ = range(final_res[0][0].shape[0])\n",
    "with sns.axes_style(\"darkgrid\"):\n",
    "    plt.xticks([0, 2, 4, 6, 8], ['3', '5', '7', '9', '11'])\n",
    "    plt.ylabel(\"Runtime (s)\")\n",
    "    plt.xlabel(\"Num Layers\")\n",
    "    for i, result in enumerate(final_res_radii):\n",
    "        res_means_ = result[0]\n",
    "        res_std_ = result[1]\n",
    "        plt.plot(res_means_, c=clrs[i], label=str(radii[i]))\n",
    "        plt.fill_between(resx_, res_means_ - res_std_, res_means_ + res_std_, alpha=0.3, facecolor=clrs[i])\n",
    "    plt.legend()\n",
    "plt.savefig('layers.pdf', dpi=300)"
   ]
  },
  {
   "cell_type": "code",
   "execution_count": 146,
   "metadata": {},
   "outputs": [],
   "source": [
    "epsilon = 5\n",
    "delta = 0.1\n",
    "\n",
    "center = z#torch.rand(10)\n",
    "radius = 1.0\n",
    "simple_domain = Hyperbox.build_linf_ball(center, radius)\n",
    "\n",
    "# For now we are using center of 0 and l_inf norm of size 1 around the center to define the output space\n",
    "output_domain = 'l1Ball1'\n",
    "\n",
    "# TODO: Replace it with a trained NN\n",
    "#network_simple = ReLUNet([8, 7, 5, 5])\n"
   ]
  },
  {
   "cell_type": "code",
   "execution_count": 147,
   "metadata": {
    "tags": []
   },
   "outputs": [
    {
     "ename": "RuntimeError",
     "evalue": "mat1 and mat2 shapes cannot be multiplied (1x1600 and 8x10)",
     "output_type": "error",
     "traceback": [
      "\u001b[0;31m---------------------------------------------------------------------------\u001b[0m",
      "\u001b[0;31mRuntimeError\u001b[0m                              Traceback (most recent call last)",
      "Input \u001b[0;32mIn [147]\u001b[0m, in \u001b[0;36m<cell line: 2>\u001b[0;34m()\u001b[0m\n\u001b[1;32m      1\u001b[0m cross_problem \u001b[38;5;241m=\u001b[39m LipMIP(network_simple, simple_domain, \u001b[38;5;124m'\u001b[39m\u001b[38;5;124ml1Ball1\u001b[39m\u001b[38;5;124m'\u001b[39m, num_threads\u001b[38;5;241m=\u001b[39m\u001b[38;5;241m8\u001b[39m, verbose\u001b[38;5;241m=\u001b[39m\u001b[38;5;28;01mTrue\u001b[39;00m)\n\u001b[0;32m----> 2\u001b[0m \u001b[43mcross_problem\u001b[49m\u001b[38;5;241;43m.\u001b[39;49m\u001b[43mcompute_max_lipschitz\u001b[49m\u001b[43m(\u001b[49m\u001b[43m)\u001b[49m\n",
      "File \u001b[0;32m~/matlaberp2/posthoc_privacy/lipmip/lipMIP.py:115\u001b[0m, in \u001b[0;36mLipMIP.compute_max_lipschitz\u001b[0;34m(self)\u001b[0m\n\u001b[1;32m    108\u001b[0m \u001b[38;5;28;01mdef\u001b[39;00m \u001b[38;5;21mcompute_max_lipschitz\u001b[39m(\u001b[38;5;28mself\u001b[39m):\n\u001b[1;32m    109\u001b[0m     \u001b[38;5;124m\"\"\" Computes the maximum lipschitz constant with a fixed\u001b[39m\n\u001b[1;32m    110\u001b[0m \u001b[38;5;124m        domain already set.\u001b[39m\n\u001b[1;32m    111\u001b[0m \n\u001b[1;32m    112\u001b[0m \u001b[38;5;124m        Returns the maximum lipschitz constant and the point that\u001b[39m\n\u001b[1;32m    113\u001b[0m \u001b[38;5;124m        attains it\u001b[39m\n\u001b[1;32m    114\u001b[0m \u001b[38;5;124m    \"\"\"\u001b[39m\n\u001b[0;32m--> 115\u001b[0m     squire, timer \u001b[38;5;241m=\u001b[39m \u001b[38;5;28;43mself\u001b[39;49m\u001b[38;5;241;43m.\u001b[39;49m\u001b[43mbuild_gurobi_squire\u001b[49m\u001b[43m(\u001b[49m\u001b[43m)\u001b[49m\n\u001b[1;32m    116\u001b[0m     model \u001b[38;5;241m=\u001b[39m squire\u001b[38;5;241m.\u001b[39mmodel\n\u001b[1;32m    118\u001b[0m     \u001b[38;5;28;01mif\u001b[39;00m \u001b[38;5;28mself\u001b[39m\u001b[38;5;241m.\u001b[39mtimeout \u001b[38;5;129;01mis\u001b[39;00m \u001b[38;5;129;01mnot\u001b[39;00m \u001b[38;5;28;01mNone\u001b[39;00m:\n",
      "File \u001b[0;32m~/matlaberp2/posthoc_privacy/lipmip/lipMIP.py:99\u001b[0m, in \u001b[0;36mLipMIP.build_gurobi_squire\u001b[0;34m(self)\u001b[0m\n\u001b[1;32m     97\u001b[0m \u001b[38;5;28;01mif\u001b[39;00m \u001b[38;5;129;01mnot\u001b[39;00m \u001b[38;5;28misinstance\u001b[39m(\u001b[38;5;28mself\u001b[39m\u001b[38;5;241m.\u001b[39mpreact, HBoxIA):\n\u001b[1;32m     98\u001b[0m     pre_bounds \u001b[38;5;241m=\u001b[39m HBoxIA(\u001b[38;5;28mself\u001b[39m\u001b[38;5;241m.\u001b[39mnetwork, \u001b[38;5;28mself\u001b[39m\u001b[38;5;241m.\u001b[39mdomain, \u001b[38;5;28mself\u001b[39m\u001b[38;5;241m.\u001b[39mc_vector)\n\u001b[0;32m---> 99\u001b[0m     \u001b[43mpre_bounds\u001b[49m\u001b[38;5;241;43m.\u001b[39;49m\u001b[43mcompute_forward\u001b[49m\u001b[43m(\u001b[49m\u001b[43mtechnique\u001b[49m\u001b[38;5;241;43m=\u001b[39;49m\u001b[38;5;28;43mself\u001b[39;49m\u001b[38;5;241;43m.\u001b[39;49m\u001b[43mpreact\u001b[49m\u001b[43m)\u001b[49m\n\u001b[1;32m    100\u001b[0m     pre_bounds\u001b[38;5;241m.\u001b[39mcompute_backward(technique\u001b[38;5;241m=\u001b[39m\u001b[38;5;28mself\u001b[39m\u001b[38;5;241m.\u001b[39mpreact)\n\u001b[1;32m    101\u001b[0m \u001b[38;5;28;01melse\u001b[39;00m:\n",
      "File \u001b[0;32m~/matlaberp2/posthoc_privacy/lipmip/interval_analysis.py:80\u001b[0m, in \u001b[0;36mHBoxIA.compute_forward\u001b[0;34m(self, technique)\u001b[0m\n\u001b[1;32m     77\u001b[0m \u001b[38;5;28;01massert\u001b[39;00m technique \u001b[38;5;129;01min\u001b[39;00m \u001b[38;5;28mself\u001b[39m\u001b[38;5;241m.\u001b[39mVALID_TECHNIQUES\n\u001b[1;32m     79\u001b[0m \u001b[38;5;28;01mif\u001b[39;00m technique \u001b[38;5;241m==\u001b[39m \u001b[38;5;124m'\u001b[39m\u001b[38;5;124mnaive_ia\u001b[39m\u001b[38;5;124m'\u001b[39m:\n\u001b[0;32m---> 80\u001b[0m \tlinear_outs, final_output \u001b[38;5;241m=\u001b[39m \u001b[38;5;28;43mself\u001b[39;49m\u001b[38;5;241;43m.\u001b[39;49m\u001b[43mforward_nia\u001b[49m\u001b[43m(\u001b[49m\u001b[38;5;28;43mself\u001b[39;49m\u001b[38;5;241;43m.\u001b[39;49m\u001b[43minput_domain\u001b[49m\u001b[43m,\u001b[49m\n\u001b[1;32m     81\u001b[0m \u001b[43m\t\t\t\t\t\t\t\t\t\t\t\t \u001b[49m\u001b[38;5;28;43mself\u001b[39;49m\u001b[38;5;241;43m.\u001b[39;49m\u001b[43mnetwork\u001b[49m\u001b[43m)\u001b[49m\n\u001b[1;32m     82\u001b[0m \t\u001b[38;5;28mself\u001b[39m\u001b[38;5;241m.\u001b[39mforward_boxes \u001b[38;5;241m=\u001b[39m {i: linear_outs[i] \n\u001b[1;32m     83\u001b[0m \t\t\t\t\t\t  \u001b[38;5;28;01mfor\u001b[39;00m i \u001b[38;5;129;01min\u001b[39;00m \u001b[38;5;28mrange\u001b[39m(\u001b[38;5;28mlen\u001b[39m(linear_outs))}\n\u001b[1;32m     84\u001b[0m \t\u001b[38;5;28mself\u001b[39m\u001b[38;5;241m.\u001b[39mforward_switches \u001b[38;5;241m=\u001b[39m {k: BooleanHyperbox\u001b[38;5;241m.\u001b[39mfrom_hyperbox(v)\n\u001b[1;32m     85\u001b[0m \t\t\t\t\t\t\t \u001b[38;5;28;01mfor\u001b[39;00m k,v \u001b[38;5;129;01min\u001b[39;00m \u001b[38;5;28mself\u001b[39m\u001b[38;5;241m.\u001b[39mforward_boxes\u001b[38;5;241m.\u001b[39mitems()}\n",
      "File \u001b[0;32m~/matlaberp2/posthoc_privacy/lipmip/interval_analysis.py:310\u001b[0m, in \u001b[0;36mHBoxIA.forward_nia\u001b[0;34m(cls, input_hbox, network)\u001b[0m\n\u001b[1;32m    308\u001b[0m \u001b[38;5;28;01mfor\u001b[39;00m i \u001b[38;5;129;01min\u001b[39;00m \u001b[38;5;28mrange\u001b[39m(network\u001b[38;5;241m.\u001b[39mnum_relus):\n\u001b[1;32m    309\u001b[0m \thidden_unit \u001b[38;5;241m=\u001b[39m network\u001b[38;5;241m.\u001b[39mget_ith_hidden_unit(i)\n\u001b[0;32m--> 310\u001b[0m \tlinear_out, relu_out \u001b[38;5;241m=\u001b[39m \u001b[38;5;28;43mcls\u001b[39;49m\u001b[38;5;241;43m.\u001b[39;49m\u001b[43m_forward_nia_layer\u001b[49m\u001b[43m(\u001b[49m\u001b[43mrelu_out\u001b[49m\u001b[43m,\u001b[49m\u001b[43m \u001b[49m\u001b[43mhidden_unit\u001b[49m\u001b[43m)\u001b[49m\n\u001b[1;32m    311\u001b[0m \tlinear_outs\u001b[38;5;241m.\u001b[39mappend(linear_out)\n\u001b[1;32m    314\u001b[0m final_output \u001b[38;5;241m=\u001b[39m \u001b[38;5;28mcls\u001b[39m\u001b[38;5;241m.\u001b[39m_forward_nia_layer(relu_out, (network\u001b[38;5;241m.\u001b[39mfcs[\u001b[38;5;241m-\u001b[39m\u001b[38;5;241m1\u001b[39m],))[\u001b[38;5;241m0\u001b[39m]\n",
      "File \u001b[0;32m~/matlaberp2/posthoc_privacy/lipmip/interval_analysis.py:331\u001b[0m, in \u001b[0;36mHBoxIA._forward_nia_layer\u001b[0;34m(cls, input_hbox, hidden_unit)\u001b[0m\n\u001b[1;32m    317\u001b[0m \u001b[38;5;129m@classmethod\u001b[39m \n\u001b[1;32m    318\u001b[0m \u001b[38;5;28;01mdef\u001b[39;00m \u001b[38;5;21m_forward_nia_layer\u001b[39m(\u001b[38;5;28mcls\u001b[39m, input_hbox, hidden_unit):\n\u001b[1;32m    319\u001b[0m \t\u001b[38;5;124m\"\"\" Takes in a hyperbox and a hidden_unit and outputs two new \u001b[39m\n\u001b[1;32m    320\u001b[0m \u001b[38;5;124m\t\thyperboxes, representing pushing the object through the hyperbox\u001b[39m\n\u001b[1;32m    321\u001b[0m \u001b[38;5;124m\tARGS:\u001b[39m\n\u001b[0;32m   (...)\u001b[0m\n\u001b[1;32m    329\u001b[0m \u001b[38;5;124m\t\tReLU(Linear(input_hbox)) is a subset of relu_out\u001b[39m\n\u001b[1;32m    330\u001b[0m \u001b[38;5;124m\t\"\"\"\u001b[39m\t\n\u001b[0;32m--> 331\u001b[0m \tlinear_out \u001b[38;5;241m=\u001b[39m \u001b[43minput_hbox\u001b[49m\u001b[38;5;241;43m.\u001b[39;49m\u001b[43mmap_linear\u001b[49m\u001b[43m(\u001b[49m\u001b[43mhidden_unit\u001b[49m\u001b[43m[\u001b[49m\u001b[38;5;241;43m0\u001b[39;49m\u001b[43m]\u001b[49m\u001b[43m)\u001b[49m\n\u001b[1;32m    332\u001b[0m \trelu_out \u001b[38;5;241m=\u001b[39m linear_out\u001b[38;5;241m.\u001b[39mmap_relu()\n\u001b[1;32m    333\u001b[0m \t\u001b[38;5;28;01mreturn\u001b[39;00m (linear_out, relu_out)\n",
      "File \u001b[0;32m~/matlaberp2/posthoc_privacy/lipmip/hyperbox.py:200\u001b[0m, in \u001b[0;36mHyperbox.map_linear\u001b[0;34m(self, linear, forward)\u001b[0m\n\u001b[1;32m    197\u001b[0m radii \u001b[38;5;241m=\u001b[39m torch\u001b[38;5;241m.\u001b[39mtensor(radii, dtype\u001b[38;5;241m=\u001b[39mdtype)\n\u001b[1;32m    198\u001b[0m \u001b[38;5;28;01mif\u001b[39;00m forward:\n\u001b[0;32m--> 200\u001b[0m     new_midpoint \u001b[38;5;241m=\u001b[39m utils\u001b[38;5;241m.\u001b[39mas_numpy(\u001b[43mlinear\u001b[49m\u001b[43m(\u001b[49m\u001b[43mmidpoint\u001b[49m\u001b[43m)\u001b[49m)\n\u001b[1;32m    201\u001b[0m     new_radii \u001b[38;5;241m=\u001b[39m utils\u001b[38;5;241m.\u001b[39mas_numpy(torch\u001b[38;5;241m.\u001b[39mabs(linear\u001b[38;5;241m.\u001b[39mweight))\u001b[38;5;241m.\u001b[39mdot(radii)\n\u001b[1;32m    202\u001b[0m \u001b[38;5;28;01melse\u001b[39;00m:\n",
      "File \u001b[0;32m~/matlaberp2/posthoc_privacy/.projenv/lib/python3.8/site-packages/torch/nn/modules/module.py:727\u001b[0m, in \u001b[0;36mModule._call_impl\u001b[0;34m(self, *input, **kwargs)\u001b[0m\n\u001b[1;32m    725\u001b[0m     result \u001b[38;5;241m=\u001b[39m \u001b[38;5;28mself\u001b[39m\u001b[38;5;241m.\u001b[39m_slow_forward(\u001b[38;5;241m*\u001b[39m\u001b[38;5;28minput\u001b[39m, \u001b[38;5;241m*\u001b[39m\u001b[38;5;241m*\u001b[39mkwargs)\n\u001b[1;32m    726\u001b[0m \u001b[38;5;28;01melse\u001b[39;00m:\n\u001b[0;32m--> 727\u001b[0m     result \u001b[38;5;241m=\u001b[39m \u001b[38;5;28;43mself\u001b[39;49m\u001b[38;5;241;43m.\u001b[39;49m\u001b[43mforward\u001b[49m\u001b[43m(\u001b[49m\u001b[38;5;241;43m*\u001b[39;49m\u001b[38;5;28;43minput\u001b[39;49m\u001b[43m,\u001b[49m\u001b[43m \u001b[49m\u001b[38;5;241;43m*\u001b[39;49m\u001b[38;5;241;43m*\u001b[39;49m\u001b[43mkwargs\u001b[49m\u001b[43m)\u001b[49m\n\u001b[1;32m    728\u001b[0m \u001b[38;5;28;01mfor\u001b[39;00m hook \u001b[38;5;129;01min\u001b[39;00m itertools\u001b[38;5;241m.\u001b[39mchain(\n\u001b[1;32m    729\u001b[0m         _global_forward_hooks\u001b[38;5;241m.\u001b[39mvalues(),\n\u001b[1;32m    730\u001b[0m         \u001b[38;5;28mself\u001b[39m\u001b[38;5;241m.\u001b[39m_forward_hooks\u001b[38;5;241m.\u001b[39mvalues()):\n\u001b[1;32m    731\u001b[0m     hook_result \u001b[38;5;241m=\u001b[39m hook(\u001b[38;5;28mself\u001b[39m, \u001b[38;5;28minput\u001b[39m, result)\n",
      "File \u001b[0;32m~/matlaberp2/posthoc_privacy/.projenv/lib/python3.8/site-packages/torch/nn/modules/linear.py:93\u001b[0m, in \u001b[0;36mLinear.forward\u001b[0;34m(self, input)\u001b[0m\n\u001b[1;32m     92\u001b[0m \u001b[38;5;28;01mdef\u001b[39;00m \u001b[38;5;21mforward\u001b[39m(\u001b[38;5;28mself\u001b[39m, \u001b[38;5;28minput\u001b[39m: Tensor) \u001b[38;5;241m-\u001b[39m\u001b[38;5;241m>\u001b[39m Tensor:\n\u001b[0;32m---> 93\u001b[0m     \u001b[38;5;28;01mreturn\u001b[39;00m \u001b[43mF\u001b[49m\u001b[38;5;241;43m.\u001b[39;49m\u001b[43mlinear\u001b[49m\u001b[43m(\u001b[49m\u001b[38;5;28;43minput\u001b[39;49m\u001b[43m,\u001b[49m\u001b[43m \u001b[49m\u001b[38;5;28;43mself\u001b[39;49m\u001b[38;5;241;43m.\u001b[39;49m\u001b[43mweight\u001b[49m\u001b[43m,\u001b[49m\u001b[43m \u001b[49m\u001b[38;5;28;43mself\u001b[39;49m\u001b[38;5;241;43m.\u001b[39;49m\u001b[43mbias\u001b[49m\u001b[43m)\u001b[49m\n",
      "File \u001b[0;32m~/matlaberp2/posthoc_privacy/.projenv/lib/python3.8/site-packages/torch/nn/functional.py:1692\u001b[0m, in \u001b[0;36mlinear\u001b[0;34m(input, weight, bias)\u001b[0m\n\u001b[1;32m   1690\u001b[0m     ret \u001b[38;5;241m=\u001b[39m torch\u001b[38;5;241m.\u001b[39maddmm(bias, \u001b[38;5;28minput\u001b[39m, weight\u001b[38;5;241m.\u001b[39mt())\n\u001b[1;32m   1691\u001b[0m \u001b[38;5;28;01melse\u001b[39;00m:\n\u001b[0;32m-> 1692\u001b[0m     output \u001b[38;5;241m=\u001b[39m \u001b[38;5;28;43minput\u001b[39;49m\u001b[38;5;241;43m.\u001b[39;49m\u001b[43mmatmul\u001b[49m\u001b[43m(\u001b[49m\u001b[43mweight\u001b[49m\u001b[38;5;241;43m.\u001b[39;49m\u001b[43mt\u001b[49m\u001b[43m(\u001b[49m\u001b[43m)\u001b[49m\u001b[43m)\u001b[49m\n\u001b[1;32m   1693\u001b[0m     \u001b[38;5;28;01mif\u001b[39;00m bias \u001b[38;5;129;01mis\u001b[39;00m \u001b[38;5;129;01mnot\u001b[39;00m \u001b[38;5;28;01mNone\u001b[39;00m:\n\u001b[1;32m   1694\u001b[0m         output \u001b[38;5;241m+\u001b[39m\u001b[38;5;241m=\u001b[39m bias\n",
      "\u001b[0;31mRuntimeError\u001b[0m: mat1 and mat2 shapes cannot be multiplied (1x1600 and 8x10)"
     ]
    }
   ],
   "source": [
    "\n",
    "cross_problem.compute_max_lipschitz()"
   ]
  },
  {
   "cell_type": "code",
   "execution_count": 145,
   "metadata": {},
   "outputs": [
    {
     "data": {
      "text/plain": [
       "0.4097048069197993"
      ]
     },
     "execution_count": 145,
     "metadata": {},
     "output_type": "execute_result"
    }
   ],
   "source": [
    "cross_problem.result.value"
   ]
  },
  {
   "cell_type": "code",
   "execution_count": null,
   "metadata": {},
   "outputs": [],
   "source": []
  }
 ],
 "metadata": {
  "kernelspec": {
   "display_name": "Python 3",
   "language": "python",
   "name": "python3"
  },
  "language_info": {
   "codemirror_mode": {
    "name": "ipython",
    "version": 3
   },
   "file_extension": ".py",
   "mimetype": "text/x-python",
   "name": "python",
   "nbconvert_exporter": "python",
   "pygments_lexer": "ipython3",
   "version": "3.8.10"
  }
 },
 "nbformat": 4,
 "nbformat_minor": 4
}
