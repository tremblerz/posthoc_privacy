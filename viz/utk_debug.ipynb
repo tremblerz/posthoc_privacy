{
 "cells": [
  {
   "cell_type": "code",
   "execution_count": 1,
   "id": "665dac38-a8c3-4ada-b683-a5bbf0ba04a0",
   "metadata": {},
   "outputs": [],
   "source": [
    "from os import sys\n",
    "sys.path.append(\"../\")"
   ]
  },
  {
   "cell_type": "code",
   "execution_count": 22,
   "id": "8fa1a87f-9d1e-4fea-a456-3e164f04603c",
   "metadata": {},
   "outputs": [],
   "source": [
    "from utils import get_dataloader\n",
    "from embedding import setup_vae, get_dataloader\n",
    "import torch\n",
    "import torch.nn as nn\n",
    "from torchvision import models"
   ]
  },
  {
   "cell_type": "code",
   "execution_count": 7,
   "id": "9d7b6078-a853-4b35-a7a5-3e853d5d051a",
   "metadata": {},
   "outputs": [
    {
     "name": "stdout",
     "output_type": "stream",
     "text": [
      "utkface\n"
     ]
    },
    {
     "data": {
      "text/plain": [
       "<All keys matched successfully>"
      ]
     },
     "execution_count": 7,
     "metadata": {},
     "output_type": "execute_result"
    }
   ],
   "source": [
    "vae, _ = setup_vae(\"utkface\")\n",
    "vae.load_state_dict(torch.load(\"../saved_models/utkface_beta1_vae.pt\"))"
   ]
  },
  {
   "cell_type": "code",
   "execution_count": 17,
   "id": "b87518cc-e965-4a3d-9be6-4aaf48fc7c44",
   "metadata": {},
   "outputs": [],
   "source": [
    "vae = vae.cuda()"
   ]
  },
  {
   "cell_type": "code",
   "execution_count": 9,
   "id": "dc4b2165-7782-45f5-85fa-05eaa5e8a982",
   "metadata": {},
   "outputs": [],
   "source": [
    "train_loader, test_loader = get_dataloader(\"utkface\")"
   ]
  },
  {
   "cell_type": "code",
   "execution_count": 12,
   "id": "ec86e773-a96b-4e5c-9d9a-291acb474a31",
   "metadata": {},
   "outputs": [],
   "source": [
    "model = nn.Sequential(nn.Linear(32, 10), nn.ReLU(), nn.Linear(10, 5)).cuda()"
   ]
  },
  {
   "cell_type": "code",
   "execution_count": 13,
   "id": "781f6b68-4b73-4cb3-bc19-608056b4c442",
   "metadata": {},
   "outputs": [],
   "source": [
    "optim = torch.optim.Adam(model.parameters(), lr=3e-4)"
   ]
  },
  {
   "cell_type": "code",
   "execution_count": 21,
   "id": "1e281f2b-92e3-4c22-b0bf-a62e1e9c95d1",
   "metadata": {
    "collapsed": true,
    "jupyter": {
     "outputs_hidden": true
    },
    "tags": []
   },
   "outputs": [
    {
     "name": "stdout",
     "output_type": "stream",
     "text": [
      "1.5293\n",
      "1.4980\n",
      "1.5101\n",
      "1.4891\n",
      "1.4848\n",
      "corrupt label\n",
      "tensor(0.4597, device='cuda:0')\n",
      "1.4776\n",
      "corrupt label\n",
      "1.4677\n",
      "1.4581\n",
      "1.4287\n",
      "1.4720\n",
      "tensor(0.4696, device='cuda:0')\n",
      "1.4598\n",
      "1.4026\n",
      "1.4045\n",
      "1.3592\n"
     ]
    },
    {
     "ename": "KeyboardInterrupt",
     "evalue": "",
     "output_type": "error",
     "traceback": [
      "\u001b[0;31m---------------------------------------------------------------------------\u001b[0m",
      "\u001b[0;31mKeyboardInterrupt\u001b[0m                         Traceback (most recent call last)",
      "Input \u001b[0;32mIn [21]\u001b[0m, in \u001b[0;36m<cell line: 1>\u001b[0;34m()\u001b[0m\n\u001b[1;32m      1\u001b[0m \u001b[38;5;28;01mfor\u001b[39;00m e \u001b[38;5;129;01min\u001b[39;00m \u001b[38;5;28mrange\u001b[39m(\u001b[38;5;241m20\u001b[39m):\n\u001b[0;32m----> 2\u001b[0m     \u001b[38;5;28;01mfor\u001b[39;00m idx, (data, labels, _) \u001b[38;5;129;01min\u001b[39;00m \u001b[38;5;28menumerate\u001b[39m(train_loader):\n\u001b[1;32m      3\u001b[0m         data, labels \u001b[38;5;241m=\u001b[39m data\u001b[38;5;241m.\u001b[39mcuda(), labels\u001b[38;5;241m.\u001b[39mcuda()\n\u001b[1;32m      4\u001b[0m         \u001b[38;5;28;01mwith\u001b[39;00m torch\u001b[38;5;241m.\u001b[39mno_grad():\n",
      "File \u001b[0;32m~/matlaberp2/posthoc_privacy/.projenv/lib/python3.8/site-packages/torch/utils/data/dataloader.py:530\u001b[0m, in \u001b[0;36m_BaseDataLoaderIter.__next__\u001b[0;34m(self)\u001b[0m\n\u001b[1;32m    528\u001b[0m \u001b[38;5;28;01mif\u001b[39;00m \u001b[38;5;28mself\u001b[39m\u001b[38;5;241m.\u001b[39m_sampler_iter \u001b[38;5;129;01mis\u001b[39;00m \u001b[38;5;28;01mNone\u001b[39;00m:\n\u001b[1;32m    529\u001b[0m     \u001b[38;5;28mself\u001b[39m\u001b[38;5;241m.\u001b[39m_reset()\n\u001b[0;32m--> 530\u001b[0m data \u001b[38;5;241m=\u001b[39m \u001b[38;5;28;43mself\u001b[39;49m\u001b[38;5;241;43m.\u001b[39;49m\u001b[43m_next_data\u001b[49m\u001b[43m(\u001b[49m\u001b[43m)\u001b[49m\n\u001b[1;32m    531\u001b[0m \u001b[38;5;28mself\u001b[39m\u001b[38;5;241m.\u001b[39m_num_yielded \u001b[38;5;241m+\u001b[39m\u001b[38;5;241m=\u001b[39m \u001b[38;5;241m1\u001b[39m\n\u001b[1;32m    532\u001b[0m \u001b[38;5;28;01mif\u001b[39;00m \u001b[38;5;28mself\u001b[39m\u001b[38;5;241m.\u001b[39m_dataset_kind \u001b[38;5;241m==\u001b[39m _DatasetKind\u001b[38;5;241m.\u001b[39mIterable \u001b[38;5;129;01mand\u001b[39;00m \\\n\u001b[1;32m    533\u001b[0m         \u001b[38;5;28mself\u001b[39m\u001b[38;5;241m.\u001b[39m_IterableDataset_len_called \u001b[38;5;129;01mis\u001b[39;00m \u001b[38;5;129;01mnot\u001b[39;00m \u001b[38;5;28;01mNone\u001b[39;00m \u001b[38;5;129;01mand\u001b[39;00m \\\n\u001b[1;32m    534\u001b[0m         \u001b[38;5;28mself\u001b[39m\u001b[38;5;241m.\u001b[39m_num_yielded \u001b[38;5;241m>\u001b[39m \u001b[38;5;28mself\u001b[39m\u001b[38;5;241m.\u001b[39m_IterableDataset_len_called:\n",
      "File \u001b[0;32m~/matlaberp2/posthoc_privacy/.projenv/lib/python3.8/site-packages/torch/utils/data/dataloader.py:570\u001b[0m, in \u001b[0;36m_SingleProcessDataLoaderIter._next_data\u001b[0;34m(self)\u001b[0m\n\u001b[1;32m    568\u001b[0m \u001b[38;5;28;01mdef\u001b[39;00m \u001b[38;5;21m_next_data\u001b[39m(\u001b[38;5;28mself\u001b[39m):\n\u001b[1;32m    569\u001b[0m     index \u001b[38;5;241m=\u001b[39m \u001b[38;5;28mself\u001b[39m\u001b[38;5;241m.\u001b[39m_next_index()  \u001b[38;5;66m# may raise StopIteration\u001b[39m\n\u001b[0;32m--> 570\u001b[0m     data \u001b[38;5;241m=\u001b[39m \u001b[38;5;28;43mself\u001b[39;49m\u001b[38;5;241;43m.\u001b[39;49m\u001b[43m_dataset_fetcher\u001b[49m\u001b[38;5;241;43m.\u001b[39;49m\u001b[43mfetch\u001b[49m\u001b[43m(\u001b[49m\u001b[43mindex\u001b[49m\u001b[43m)\u001b[49m  \u001b[38;5;66m# may raise StopIteration\u001b[39m\n\u001b[1;32m    571\u001b[0m     \u001b[38;5;28;01mif\u001b[39;00m \u001b[38;5;28mself\u001b[39m\u001b[38;5;241m.\u001b[39m_pin_memory:\n\u001b[1;32m    572\u001b[0m         data \u001b[38;5;241m=\u001b[39m _utils\u001b[38;5;241m.\u001b[39mpin_memory\u001b[38;5;241m.\u001b[39mpin_memory(data)\n",
      "File \u001b[0;32m~/matlaberp2/posthoc_privacy/.projenv/lib/python3.8/site-packages/torch/utils/data/_utils/fetch.py:49\u001b[0m, in \u001b[0;36m_MapDatasetFetcher.fetch\u001b[0;34m(self, possibly_batched_index)\u001b[0m\n\u001b[1;32m     47\u001b[0m \u001b[38;5;28;01mdef\u001b[39;00m \u001b[38;5;21mfetch\u001b[39m(\u001b[38;5;28mself\u001b[39m, possibly_batched_index):\n\u001b[1;32m     48\u001b[0m     \u001b[38;5;28;01mif\u001b[39;00m \u001b[38;5;28mself\u001b[39m\u001b[38;5;241m.\u001b[39mauto_collation:\n\u001b[0;32m---> 49\u001b[0m         data \u001b[38;5;241m=\u001b[39m [\u001b[38;5;28mself\u001b[39m\u001b[38;5;241m.\u001b[39mdataset[idx] \u001b[38;5;28;01mfor\u001b[39;00m idx \u001b[38;5;129;01min\u001b[39;00m possibly_batched_index]\n\u001b[1;32m     50\u001b[0m     \u001b[38;5;28;01melse\u001b[39;00m:\n\u001b[1;32m     51\u001b[0m         data \u001b[38;5;241m=\u001b[39m \u001b[38;5;28mself\u001b[39m\u001b[38;5;241m.\u001b[39mdataset[possibly_batched_index]\n",
      "File \u001b[0;32m~/matlaberp2/posthoc_privacy/.projenv/lib/python3.8/site-packages/torch/utils/data/_utils/fetch.py:49\u001b[0m, in \u001b[0;36m<listcomp>\u001b[0;34m(.0)\u001b[0m\n\u001b[1;32m     47\u001b[0m \u001b[38;5;28;01mdef\u001b[39;00m \u001b[38;5;21mfetch\u001b[39m(\u001b[38;5;28mself\u001b[39m, possibly_batched_index):\n\u001b[1;32m     48\u001b[0m     \u001b[38;5;28;01mif\u001b[39;00m \u001b[38;5;28mself\u001b[39m\u001b[38;5;241m.\u001b[39mauto_collation:\n\u001b[0;32m---> 49\u001b[0m         data \u001b[38;5;241m=\u001b[39m [\u001b[38;5;28;43mself\u001b[39;49m\u001b[38;5;241;43m.\u001b[39;49m\u001b[43mdataset\u001b[49m\u001b[43m[\u001b[49m\u001b[43midx\u001b[49m\u001b[43m]\u001b[49m \u001b[38;5;28;01mfor\u001b[39;00m idx \u001b[38;5;129;01min\u001b[39;00m possibly_batched_index]\n\u001b[1;32m     50\u001b[0m     \u001b[38;5;28;01melse\u001b[39;00m:\n\u001b[1;32m     51\u001b[0m         data \u001b[38;5;241m=\u001b[39m \u001b[38;5;28mself\u001b[39m\u001b[38;5;241m.\u001b[39mdataset[possibly_batched_index]\n",
      "File \u001b[0;32m~/matlaberp2/posthoc_privacy/viz/../utils.py:100\u001b[0m, in \u001b[0;36mMyDataset.__getitem__\u001b[0;34m(self, index)\u001b[0m\n\u001b[1;32m     99\u001b[0m \u001b[38;5;28;01mdef\u001b[39;00m \u001b[38;5;21m__getitem__\u001b[39m(\u001b[38;5;28mself\u001b[39m, index):\n\u001b[0;32m--> 100\u001b[0m     data, target \u001b[38;5;241m=\u001b[39m \u001b[38;5;28;43mself\u001b[39;49m\u001b[38;5;241;43m.\u001b[39;49m\u001b[43mset\u001b[49m\u001b[43m[\u001b[49m\u001b[43mindex\u001b[49m\u001b[43m]\u001b[49m\n\u001b[1;32m    101\u001b[0m     \u001b[38;5;28;01mreturn\u001b[39;00m data, target, index\n",
      "File \u001b[0;32m~/matlaberp2/posthoc_privacy/.projenv/lib/python3.8/site-packages/torch/utils/data/dataset.py:471\u001b[0m, in \u001b[0;36mSubset.__getitem__\u001b[0;34m(self, idx)\u001b[0m\n\u001b[1;32m    469\u001b[0m \u001b[38;5;28;01mif\u001b[39;00m \u001b[38;5;28misinstance\u001b[39m(idx, \u001b[38;5;28mlist\u001b[39m):\n\u001b[1;32m    470\u001b[0m     \u001b[38;5;28;01mreturn\u001b[39;00m \u001b[38;5;28mself\u001b[39m\u001b[38;5;241m.\u001b[39mdataset[[\u001b[38;5;28mself\u001b[39m\u001b[38;5;241m.\u001b[39mindices[i] \u001b[38;5;28;01mfor\u001b[39;00m i \u001b[38;5;129;01min\u001b[39;00m idx]]\n\u001b[0;32m--> 471\u001b[0m \u001b[38;5;28;01mreturn\u001b[39;00m \u001b[38;5;28;43mself\u001b[39;49m\u001b[38;5;241;43m.\u001b[39;49m\u001b[43mdataset\u001b[49m\u001b[43m[\u001b[49m\u001b[38;5;28;43mself\u001b[39;49m\u001b[38;5;241;43m.\u001b[39;49m\u001b[43mindices\u001b[49m\u001b[43m[\u001b[49m\u001b[43midx\u001b[49m\u001b[43m]\u001b[49m\u001b[43m]\u001b[49m\n",
      "File \u001b[0;32m~/matlaberp2/posthoc_privacy/viz/../utils.py:44\u001b[0m, in \u001b[0;36mBaseDataset.__getitem__\u001b[0;34m(self, index)\u001b[0m\n\u001b[1;32m     42\u001b[0m \u001b[38;5;28;01mdef\u001b[39;00m \u001b[38;5;21m__getitem__\u001b[39m(\u001b[38;5;28mself\u001b[39m, index):\n\u001b[1;32m     43\u001b[0m     filepath \u001b[38;5;241m=\u001b[39m \u001b[38;5;28mself\u001b[39m\u001b[38;5;241m.\u001b[39mfilepaths[index]\n\u001b[0;32m---> 44\u001b[0m     img \u001b[38;5;241m=\u001b[39m \u001b[38;5;28;43mself\u001b[39;49m\u001b[38;5;241;43m.\u001b[39;49m\u001b[43mload_image\u001b[49m\u001b[43m(\u001b[49m\u001b[43mfilepath\u001b[49m\u001b[43m)\u001b[49m\n\u001b[1;32m     45\u001b[0m     img \u001b[38;5;241m=\u001b[39m \u001b[38;5;28mself\u001b[39m\u001b[38;5;241m.\u001b[39mtransforms(img)\n\u001b[1;32m     46\u001b[0m     label \u001b[38;5;241m=\u001b[39m \u001b[38;5;28mself\u001b[39m\u001b[38;5;241m.\u001b[39mload_label(filepath)\n",
      "File \u001b[0;32m~/matlaberp2/posthoc_privacy/viz/../utils.py:30\u001b[0m, in \u001b[0;36mBaseDataset.load_image\u001b[0;34m(self, filepath)\u001b[0m\n\u001b[1;32m     29\u001b[0m \u001b[38;5;28;01mdef\u001b[39;00m \u001b[38;5;21mload_image\u001b[39m(\u001b[38;5;28mself\u001b[39m, filepath):\n\u001b[0;32m---> 30\u001b[0m     img \u001b[38;5;241m=\u001b[39m \u001b[43mImage\u001b[49m\u001b[38;5;241;43m.\u001b[39;49m\u001b[43mopen\u001b[49m\u001b[43m(\u001b[49m\u001b[43mfilepath\u001b[49m\u001b[43m)\u001b[49m\n\u001b[1;32m     31\u001b[0m     \u001b[38;5;66m# img = np.array(img)\u001b[39m\n\u001b[1;32m     32\u001b[0m     \u001b[38;5;28;01mreturn\u001b[39;00m img\n",
      "File \u001b[0;32m~/matlaberp2/posthoc_privacy/.projenv/lib/python3.8/site-packages/PIL/Image.py:3068\u001b[0m, in \u001b[0;36mopen\u001b[0;34m(fp, mode, formats)\u001b[0m\n\u001b[1;32m   3065\u001b[0m     filename \u001b[38;5;241m=\u001b[39m fp\n\u001b[1;32m   3067\u001b[0m \u001b[38;5;28;01mif\u001b[39;00m filename:\n\u001b[0;32m-> 3068\u001b[0m     fp \u001b[38;5;241m=\u001b[39m \u001b[43mbuiltins\u001b[49m\u001b[38;5;241;43m.\u001b[39;49m\u001b[43mopen\u001b[49m\u001b[43m(\u001b[49m\u001b[43mfilename\u001b[49m\u001b[43m,\u001b[49m\u001b[43m \u001b[49m\u001b[38;5;124;43m\"\u001b[39;49m\u001b[38;5;124;43mrb\u001b[39;49m\u001b[38;5;124;43m\"\u001b[39;49m\u001b[43m)\u001b[49m\n\u001b[1;32m   3069\u001b[0m     exclusive_fp \u001b[38;5;241m=\u001b[39m \u001b[38;5;28;01mTrue\u001b[39;00m\n\u001b[1;32m   3071\u001b[0m \u001b[38;5;28;01mtry\u001b[39;00m:\n",
      "\u001b[0;31mKeyboardInterrupt\u001b[0m: "
     ]
    }
   ],
   "source": [
    "for e in range(20):\n",
    "    for idx, (data, labels, _) in enumerate(train_loader):\n",
    "        data, labels = data.cuda(), labels.cuda()\n",
    "        with torch.no_grad():\n",
    "            z, _ = vae.encode(data)\n",
    "        preds = model(z)\n",
    "        loss = nn.CrossEntropyLoss()(preds, labels)\n",
    "        optim.zero_grad()\n",
    "        loss.backward()\n",
    "        optim.step()\n",
    "        if idx % 20 == 0:\n",
    "            print(\"{:.4f}\".format(loss.item()))\n",
    "    correct, total = 0, 0\n",
    "    for idx, (data, labels, _) in enumerate(test_loader):\n",
    "        data, labels = data.cuda(), labels.cuda()\n",
    "        with torch.no_grad():\n",
    "            z, _ = vae.encode(data)\n",
    "        preds = model(z)\n",
    "        correct += (preds.argmax(dim=1) == labels).sum()\n",
    "        total += data.shape[0]\n",
    "    print(correct / total)"
   ]
  },
  {
   "cell_type": "code",
   "execution_count": 29,
   "id": "62a51361-9f87-4a66-9e04-0419525e5752",
   "metadata": {},
   "outputs": [],
   "source": [
    "full_model = models.resnet18()\n",
    "full_model.fc = nn.Linear(512, 5)"
   ]
  },
  {
   "cell_type": "code",
   "execution_count": 30,
   "id": "8d8b938e-ac65-430d-a050-b2317d01c40b",
   "metadata": {},
   "outputs": [],
   "source": [
    "full_model = full_model.cuda()\n",
    "optim = torch.optim.Adam(full_model.parameters(), lr=3e-4)"
   ]
  },
  {
   "cell_type": "code",
   "execution_count": 31,
   "id": "252dcf6b-b201-416d-95fe-c3a474151d9c",
   "metadata": {},
   "outputs": [
    {
     "name": "stdout",
     "output_type": "stream",
     "text": [
      "1.5687\n",
      "corrupt label\n",
      "0.9121\n",
      "0.7499\n",
      "0.8639\n",
      "0.7068\n",
      "acc  tensor(0.7379, device='cuda:0')\n",
      "0.7495\n",
      "0.5467\n",
      "0.5960\n",
      "0.6124\n",
      "0.6049\n",
      "corrupt label\n",
      "acc  tensor(0.7704, device='cuda:0')\n",
      "0.3897\n",
      "0.4502\n",
      "0.4503\n",
      "corrupt label\n",
      "0.5756\n",
      "0.5327\n",
      "acc  tensor(0.7805, device='cuda:0')\n",
      "0.2889\n",
      "0.2435\n",
      "0.3699\n",
      "0.4549\n",
      "corrupt label\n",
      "0.3705\n",
      "acc  tensor(0.7693, device='cuda:0')\n",
      "0.2317\n",
      "0.1636\n",
      "0.2723\n",
      "0.2922\n",
      "corrupt label\n",
      "0.3062\n",
      "acc  tensor(0.7505, device='cuda:0')\n",
      "0.2278\n",
      "0.2295\n",
      "corrupt label\n",
      "0.1122\n",
      "0.1757\n",
      "0.3009\n",
      "acc  tensor(0.7615, device='cuda:0')\n",
      "0.1764\n",
      "0.1352\n",
      "0.1476\n",
      "0.1177\n",
      "corrupt label\n",
      "0.2180\n",
      "acc  tensor(0.7750, device='cuda:0')\n",
      "0.0611\n",
      "0.0767\n",
      "0.0841\n",
      "0.1067\n",
      "corrupt label\n",
      "0.0968\n",
      "acc  tensor(0.7659, device='cuda:0')\n",
      "0.1193\n",
      "0.0741\n",
      "corrupt label\n",
      "0.0537\n",
      "0.0573\n",
      "0.0954\n",
      "acc  tensor(0.7672, device='cuda:0')\n",
      "0.0509\n",
      "0.0295\n",
      "0.1422\n",
      "0.1095\n",
      "corrupt label\n",
      "0.0568\n",
      "acc  tensor(0.7649, device='cuda:0')\n",
      "0.0509\n",
      "corrupt label\n",
      "0.0890\n",
      "0.0769\n",
      "0.0355\n",
      "0.0514\n",
      "acc  tensor(0.7788, device='cuda:0')\n",
      "0.0365\n",
      "0.0511\n",
      "0.0927\n",
      "0.1218\n",
      "0.0756\n",
      "corrupt label\n",
      "acc  tensor(0.7763, device='cuda:0')\n",
      "0.0107\n",
      "0.0375\n",
      "0.0773\n",
      "corrupt label\n",
      "0.0512\n",
      "0.0538\n",
      "acc  tensor(0.7754, device='cuda:0')\n",
      "0.0412\n",
      "0.0727\n",
      "corrupt label\n",
      "0.0404\n",
      "0.0499\n",
      "0.0394\n",
      "acc  tensor(0.7701, device='cuda:0')\n",
      "0.0138\n",
      "0.0120\n",
      "corrupt label\n",
      "0.0231\n",
      "0.0228\n",
      "0.0677\n",
      "acc  tensor(0.7790, device='cuda:0')\n",
      "0.0120\n",
      "corrupt label\n",
      "0.0058\n",
      "0.0271\n",
      "0.0442\n",
      "0.0410\n",
      "acc  tensor(0.7813, device='cuda:0')\n",
      "0.0070\n",
      "0.0180\n",
      "0.0713\n",
      "0.1053\n",
      "corrupt label\n",
      "0.1024\n",
      "acc  tensor(0.7752, device='cuda:0')\n",
      "0.0271\n",
      "0.0495\n",
      "corrupt label\n",
      "0.0639\n",
      "0.0313\n",
      "0.0244\n",
      "acc  tensor(0.7718, device='cuda:0')\n",
      "0.0656\n",
      "0.0102\n",
      "0.0515\n",
      "corrupt label\n",
      "0.1103\n",
      "0.0875\n",
      "acc  tensor(0.7767, device='cuda:0')\n",
      "0.0269\n",
      "0.0660\n",
      "0.0323\n",
      "corrupt label\n",
      "0.0698\n",
      "0.0527\n",
      "acc  tensor(0.7790, device='cuda:0')\n"
     ]
    }
   ],
   "source": [
    "for e in range(20):\n",
    "    for idx, (data, labels, _) in enumerate(train_loader):\n",
    "        data, labels = data.cuda(), labels.cuda()\n",
    "        with torch.no_grad():\n",
    "            x, _, _, _ = vae(data)\n",
    "        preds = full_model(data)\n",
    "        loss = nn.CrossEntropyLoss()(preds, labels)\n",
    "        optim.zero_grad()\n",
    "        loss.backward()\n",
    "        optim.step()\n",
    "        if idx % 20 == 0:\n",
    "            print(\"{:.4f}\".format(loss.item()))\n",
    "    correct, total = 0, 0\n",
    "    for idx, (data, labels, _) in enumerate(test_loader):\n",
    "        data, labels = data.cuda(), labels.cuda()\n",
    "        with torch.no_grad():\n",
    "            x, _, _, _ = vae(data)\n",
    "        preds = full_model(data)\n",
    "        correct += (preds.argmax(dim=1) == labels).sum()\n",
    "        total += data.shape[0]\n",
    "    print(\"acc \", correct / total)"
   ]
  },
  {
   "cell_type": "code",
   "execution_count": 27,
   "id": "4950b913-e3ef-4a31-9829-1ce768f07e3b",
   "metadata": {},
   "outputs": [
    {
     "name": "stdout",
     "output_type": "stream",
     "text": [
      "tensor(0.6086, device='cuda:0')\n"
     ]
    }
   ],
   "source": [
    "correct, total = 0, 0\n",
    "for idx, (data, labels, _) in enumerate(test_loader):\n",
    "    data, labels = data.cuda(), labels.cuda()\n",
    "    with torch.no_grad():\n",
    "        x, _, _, _ = vae(data)\n",
    "    preds = full_model(x)\n",
    "    correct += (preds.argmax(dim=1) == labels).sum()\n",
    "    total += data.shape[0]\n",
    "print(correct / total)"
   ]
  },
  {
   "cell_type": "code",
   "execution_count": null,
   "id": "37b13475-7b6b-4855-bdb6-27fc79c52902",
   "metadata": {},
   "outputs": [],
   "source": []
  }
 ],
 "metadata": {
  "kernelspec": {
   "display_name": "Python 3",
   "language": "python",
   "name": "python3"
  },
  "language_info": {
   "codemirror_mode": {
    "name": "ipython",
    "version": 3
   },
   "file_extension": ".py",
   "mimetype": "text/x-python",
   "name": "python",
   "nbconvert_exporter": "python",
   "pygments_lexer": "ipython3",
   "version": "3.8.10"
  }
 },
 "nbformat": 4,
 "nbformat_minor": 5
}
